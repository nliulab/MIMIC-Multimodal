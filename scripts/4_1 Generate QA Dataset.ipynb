{
 "cells": [
  {
   "cell_type": "code",
   "execution_count": 1,
   "metadata": {},
   "outputs": [],
   "source": [
    "import os\n",
    "import numpy as np\n",
    "import pandas as pd\n",
    "import pickle\n",
    "from operator import itemgetter\n",
    "from sklearn.model_selection import train_test_split\n",
    "from tqdm import tqdm\n",
    "import time\n",
    "import inflect\n",
    "import base64\n",
    "import tiktoken\n",
    "import json\n",
    "import re\n",
    "import warnings\n",
    "warnings.filterwarnings('ignore')"
   ]
  },
  {
   "cell_type": "markdown",
   "metadata": {},
   "source": [
    "## Load Data"
   ]
  },
  {
   "cell_type": "code",
   "execution_count": 2,
   "metadata": {},
   "outputs": [],
   "source": [
    "# Office PC\n",
    "icus = pickle.load(open('./Data/processed_icu_24h.pkl','rb'))\n",
    "icus_metadata = pd.read_csv('./Data/metadata_24h.csv',index_col=0)"
   ]
  },
  {
   "cell_type": "code",
   "execution_count": 3,
   "metadata": {},
   "outputs": [],
   "source": [
    "# Train-val-test split\n",
    "idx_train_val, idx_test = train_test_split(icus_metadata.index.values, test_size=0.2, random_state=0)\n",
    "idx_train,idx_val = train_test_split(idx_train_val, test_size=0.125, random_state=0)"
   ]
  },
  {
   "cell_type": "code",
   "execution_count": 4,
   "metadata": {},
   "outputs": [],
   "source": [
    "# Test\n",
    "icus_test = list(itemgetter(*idx_test)(icus))\n",
    "metadata_test = icus_metadata.loc[idx_test,:]\n",
    "metadata_test = metadata_test.reindex(idx_test)"
   ]
  },
  {
   "cell_type": "markdown",
   "metadata": {},
   "source": [
    "## Generate patient profiles in text"
   ]
  },
  {
   "cell_type": "code",
   "execution_count": 5,
   "metadata": {},
   "outputs": [],
   "source": [
    "# Prompt Generation\n",
    "class Generator:\n",
    "    def __init__(self,icus,icus_metadata):\n",
    "        self.icus = icus\n",
    "        self.icus_metadata = icus_metadata\n",
    "        self.inflect_engine = inflect.engine()\n",
    "\n",
    "    def generate_demographic_input(self, patient_demographics):\n",
    "        # Patient demographics\n",
    "        demographics_text = \"Patient Demographics:\"\n",
    "        demographics_text += f\"\"\"\n",
    "        - Age: {patient_demographics['age'].item()}\n",
    "        - Gender: {patient_demographics['gender'].item()}\n",
    "        - Race: {patient_demographics['race'].item()}\n",
    "        - Marital Status: {patient_demographics['marital_status'].item()}\n",
    "        - Language: {patient_demographics['language'].item()}\n",
    "        - Insurance: {patient_demographics['insurance'].item()}\n",
    "        \"\"\"\n",
    "        return demographics_text\n",
    "\n",
    "    def generate_vital_signs_input(self, vital_signs):\n",
    "        vital_signs_text = \"Vital Signs:\\n\"\n",
    "        for _,content in vital_signs.iterrows():\n",
    "            vital_signs_text += f\"- Time from ICU Admission: {content['frac_charttime']} hours\\n\"\n",
    "            if not np.isnan(content['Heart Rate']):\n",
    "                vital_signs_text += f\"    - Heart Rate: {content['Heart Rate']}\\n\"\n",
    "            if not np.isnan(content['Respiratory Rate']):\n",
    "                vital_signs_text += f\"    - Respiratory Rate: {content['Respiratory Rate']}\\n\"\n",
    "            if not np.isnan(content['O2 saturation pulseoxymetry']):\n",
    "                vital_signs_text += f\"    - Peripheral Oxygen Saturation: {content['O2 saturation pulseoxymetry']}\\n\"\n",
    "            if not (np.isnan(content['Non Invasive Blood Pressure systolic']) and np.isnan(content['Non Invasive Blood Pressure diastolic']) and np.isnan(content['Non Invasive Blood Pressure mean'])):\n",
    "                vital_signs_text += f\"    - Non-invasive Blood Pressure (Systolic/Diastolic/Mean): {content['Non Invasive Blood Pressure systolic']} / {content['Non Invasive Blood Pressure diastolic']} / {content['Non Invasive Blood Pressure mean']}\\n\"\n",
    "            if not (np.isnan(content['Arterial Blood Pressure systolic']) and np.isnan(content['Arterial Blood Pressure diastolic']) and np.isnan(content['Arterial Blood Pressure mean'])):\n",
    "                vital_signs_text += f\"    - Arterial Blood Pressure (Systolic/Diastolic/Mean): {content['Arterial Blood Pressure systolic']} / {content['Arterial Blood Pressure diastolic']} / {content['Arterial Blood Pressure mean']}\\n\"\n",
    "            if not (np.isnan(content['GCS - Eye Opening']) and np.isnan(content['GCS - Verbal Response']) and np.isnan(content['GCS - Motor Response'])):\n",
    "                vital_signs_text += f\"    - GCS: Eye Opening: {content['GCS - Eye Opening']}, Verbal Response: {content['GCS - Verbal Response']}, Motor Response: {content['GCS - Motor Response']}\\n\"\n",
    "            if not np.isnan(content['Temperature Fahrenheit']):\n",
    "                vital_signs_text += f\"    - Temperature Fahrenheit: {content['Temperature Fahrenheit']}\\n\"\n",
    "\n",
    "        return vital_signs_text\n",
    "\n",
    "    def generate_cxr_input(self, images,icu_intime):\n",
    "        image_text = \"Chest X-Ray Images:\\n\"\n",
    "        for idx,content in images.iterrows():\n",
    "            # Calculate time difference between image recording time and ICU admission time\n",
    "            frac_charttime = round((content['StudyDatetime']-icu_intime).total_seconds()/3600,2)\n",
    "            image_text += f\"- The uploaded image is the most recent chest X-ray image.\\n\"\n",
    "\n",
    "        return image_text\n",
    "\n",
    "    def generate_report_input(self, reports, icu_intime):\n",
    "        reports = reports[['charttime','text']].drop_duplicates()\n",
    "        reports_text = \"Radiology Reports:\\n\"\n",
    "        for _,content in reports.iterrows():\n",
    "            # Calculate time difference between report recording time and ICU admission time\n",
    "            frac_charttime = round((content['charttime']-icu_intime).total_seconds()/3600,2)\n",
    "            reports_text += f\"- Time from ICU Admission: {frac_charttime} hours\\n\"\n",
    "            reports_text += f\"    - Report Text: {content['text']}\\n\"\n",
    "\n",
    "        return reports_text\n",
    "\n",
    "    def generate_patient_profiles(self):\n",
    "        profiles = []\n",
    "        nfiles = len(self.icus)\n",
    "\n",
    "        with tqdm(total=nfiles) as pbar:\n",
    "            for i in range(nfiles):\n",
    "                # Extract ICU stay and metadata\n",
    "                icu = self.icus[i]\n",
    "                icu_metadata = self.icus_metadata.iloc[i]\n",
    "                if icu.tabular['stay_id'].item()!=icu_metadata['stay_id']:\n",
    "                  print('Error in aligning metadata: stay ID mismatch')\n",
    "                  break\n",
    "                icu_metadata['intime'] = pd.to_datetime(icu_metadata['intime'])\n",
    "                icu_intime = icu_metadata['intime']\n",
    "\n",
    "                # Generate textual input for each modality\n",
    "                text_list = []\n",
    "                # Demographics\n",
    "                demo_text = self.generate_demographic_input(icu.tabular)\n",
    "                text_list.append(demo_text)\n",
    "                # Vital signs\n",
    "                if not icu.time_series.empty:\n",
    "                  ts = icu.time_series\n",
    "                  # Time for last measurement\n",
    "                  last_time = ts.iloc[-1,-1]\n",
    "                  # Select records within 2 hours\n",
    "                  selected_ts = ts[ts['frac_charttime']>=last_time-2]\n",
    "                  vs_text = self.generate_vital_signs_input(selected_ts)\n",
    "                  text_list.append(vs_text)\n",
    "                # CXR\n",
    "                if not icu.images['metadata'].empty:\n",
    "                  image = pd.merge(icu.images['metadata'], icu.images['image_path'], how='left', on=['dicom_id', 'study_id', 'subject_id'])\n",
    "                  img_text = self.generate_cxr_input(image.iloc[-1:], icu_intime)\n",
    "                  text_list.append(img_text)\n",
    "                # Radiology reports\n",
    "                if not icu.notes['radiology'].empty:\n",
    "                    reports_text = self.generate_report_input(icu.notes['radiology'], icu_intime)\n",
    "                    text_list.append(reports_text)\n",
    "\n",
    "                # Prompt\n",
    "                icu_text = \"\\n\".join(text_list)\n",
    "\n",
    "                # user_prompt = (\n",
    "                #     f\"Based on the provided patient hospital profile: \\n{icu_text}\\n\"\n",
    "                #     f\"Answer the question using only a probability between 0 and 1\\n\"\n",
    "                #     f\"Question: Will the patient die during current hospital admission?.\\n\"\n",
    "                #     # Will the patient stay in ICU for more than three days?\n",
    "                #     # f\"Answer (probability between 0 and 1):\"\n",
    "                # )\n",
    "                profiles.append(icu_text)\n",
    "                # Update\n",
    "                pbar.update(1)\n",
    "\n",
    "        return profiles"
   ]
  },
  {
   "cell_type": "code",
   "execution_count": 6,
   "metadata": {},
   "outputs": [
    {
     "name": "stderr",
     "output_type": "stream",
     "text": [
      "100%|██████████| 14637/14637 [00:28<00:00, 519.48it/s]\n"
     ]
    }
   ],
   "source": [
    "generator = Generator(icus_test,metadata_test)\n",
    "patient_profiles = generator.generate_patient_profiles()"
   ]
  },
  {
   "cell_type": "markdown",
   "metadata": {},
   "source": [
    "## Generate image path"
   ]
  },
  {
   "cell_type": "code",
   "execution_count": 7,
   "metadata": {},
   "outputs": [],
   "source": [
    "def extract_path(metadata):\n",
    "    \"\"\"Extract image path from ICU profiles\"\"\"\n",
    "    p_id = str(int(metadata['subject_id'].item()))\n",
    "    s_id = str(int(metadata['study_id'].item()))\n",
    "    d_id = str(metadata['dicom_id'].item())\n",
    "    # Path for JPG files in google cloud\n",
    "    image_path = f\"files/p{p_id[:2]}/p{p_id}/s{s_id}/{d_id}.jpg\"\n",
    "    # Path for downloaded files\n",
    "    # local_path =  os.path.join(jpg_dir, os.path.basename(remote_path))\n",
    "    return image_path"
   ]
  },
  {
   "cell_type": "code",
   "execution_count": 8,
   "metadata": {},
   "outputs": [
    {
     "name": "stderr",
     "output_type": "stream",
     "text": [
      "100%|██████████| 14637/14637 [00:00<00:00, 67698.33it/s]\n"
     ]
    }
   ],
   "source": [
    "with tqdm(total=len(icus_test)) as pbar:\n",
    "  images = []\n",
    "  for icu in icus_test:\n",
    "    if not icu.images['metadata'].empty:\n",
    "      # Download\n",
    "      image_path = extract_path(icu.images['metadata'].iloc[-1:])\n",
    "      # download_blob(bucket_name, remote_path, local_path, project_id)\n",
    "      # # Open\n",
    "      # image = Image.open(local_path)\n",
    "      # resized_image = image.resize((512, 512))\n",
    "      images.append(image_path)\n",
    "      pbar.update(1)\n",
    "    else:\n",
    "      images.append(None)\n",
    "      pbar.update(1)\n",
    "      continue"
   ]
  },
  {
   "cell_type": "markdown",
   "metadata": {},
   "source": [
    "## Create Dataset"
   ]
  },
  {
   "cell_type": "code",
   "execution_count": 24,
   "metadata": {},
   "outputs": [
    {
     "name": "stderr",
     "output_type": "stream",
     "text": [
      "100%|██████████| 14637/14637 [00:00<00:00, 20974.37it/s]\n"
     ]
    }
   ],
   "source": [
    "qa_dataset_test = []\n",
    "nfiles = len(icus_test)\n",
    "with tqdm(total=nfiles) as pbar:\n",
    "    for idx in range(nfiles):\n",
    "        patient_info = {}\n",
    "        # Create Dataset\n",
    "        patient_info['id'] = int(idx+1)\n",
    "        patient_info['context'] = patient_profiles[idx]\n",
    "        patient_info['image'] = images[idx]\n",
    "        patient_info['question'] = {'hospital_expire_flag':  \"Will the patient die during current hospital admission?\",\n",
    "                                    'los_binary': \"Will this patient's ICU stay exceed three days?\"}\n",
    "        patient_info['answer'] = {'hospital_expire_flag': int(metadata_test.iloc[idx]['hospital_expire_flag']),\n",
    "                                'los_binary': int(metadata_test.iloc[idx]['los_binary'])}\n",
    "        # Append\n",
    "        qa_dataset_test.append(patient_info)\n",
    "        # Update\n",
    "        pbar.update(1) "
   ]
  },
  {
   "cell_type": "code",
   "execution_count": 25,
   "metadata": {},
   "outputs": [],
   "source": [
    "output_path = 'Data/qa_dataset_test.json'\n",
    "with open(output_path, \"w\") as f:\n",
    "    json.dump(qa_dataset_test, f, indent=4)"
   ]
  }
 ],
 "metadata": {
  "kernelspec": {
   "display_name": ".venv",
   "language": "python",
   "name": "python3"
  },
  "language_info": {
   "codemirror_mode": {
    "name": "ipython",
    "version": 3
   },
   "file_extension": ".py",
   "mimetype": "text/x-python",
   "name": "python",
   "nbconvert_exporter": "python",
   "pygments_lexer": "ipython3",
   "version": "3.11.9"
  }
 },
 "nbformat": 4,
 "nbformat_minor": 2
}
