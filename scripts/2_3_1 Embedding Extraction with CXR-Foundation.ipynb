{
 "cells": [
  {
   "cell_type": "markdown",
   "metadata": {
    "id": "AFHyvFnH40eA"
   },
   "source": [
    "# Extract Embeddings from MIMIC-IV-CXR using CXR-Foundation\n",
    "For more information on CXR-Foundation,  please refer to https://github.com/Google-Health/imaging-research/blob/master/cxr-foundation/README.md  \n",
    "**We recommend running the following codes using Google Colab**"
   ]
  },
  {
   "cell_type": "code",
   "execution_count": 1,
   "metadata": {
    "executionInfo": {
     "elapsed": 945,
     "status": "ok",
     "timestamp": 1720793195898,
     "user": {
      "displayName": "Kunyu Yu",
      "userId": "14770751944604064967"
     },
     "user_tz": -480
    },
    "id": "GOrbufGp41Cv"
   },
   "outputs": [],
   "source": [
    "import numpy as np\n",
    "import pandas as pd\n",
    "import os\n",
    "import pickle\n",
    "import matplotlib.pyplot as plt\n",
    "from tqdm import tqdm\n",
    "import time"
   ]
  },
  {
   "cell_type": "markdown",
   "metadata": {
    "id": "-JNaFDKT46kf"
   },
   "source": [
    "## Pacakage Preparation"
   ]
  },
  {
   "cell_type": "markdown",
   "metadata": {
    "id": "yjbIIX3L5Acf"
   },
   "source": [
    "### Installation\n",
    "Install the CXR Foundation package"
   ]
  },
  {
   "cell_type": "code",
   "execution_count": 3,
   "metadata": {
    "colab": {
     "base_uri": "https://localhost:8080/"
    },
    "collapsed": true,
    "executionInfo": {
     "elapsed": 110702,
     "status": "ok",
     "timestamp": 1720750564925,
     "user": {
      "displayName": "Kunyu Yu",
      "userId": "14770751944604064967"
     },
     "user_tz": -480
    },
    "id": "-tn5TR854_du",
    "outputId": "39f3df4e-cc30-4075-dda6-b18849909c52"
   },
   "outputs": [
    {
     "name": "stdout",
     "output_type": "stream",
     "text": [
      "Requirement already satisfied: matplotlib in /usr/local/lib/python3.10/dist-packages (3.7.1)\n",
      "Collecting tf-models-official==2.14.0\n",
      "  Downloading tf_models_official-2.14.0-py2.py3-none-any.whl (2.7 MB)\n",
      "\u001b[2K     \u001b[90m━━━━━━━━━━━━━━━━━━━━━━━━━━━━━━━━━━━━━━━━\u001b[0m \u001b[32m2.7/2.7 MB\u001b[0m \u001b[31m20.6 MB/s\u001b[0m eta \u001b[36m0:00:00\u001b[0m\n",
      "\u001b[?25hRequirement already satisfied: google-cloud-storage in /usr/local/lib/python3.10/dist-packages (2.8.0)\n",
      "Requirement already satisfied: Cython in /usr/local/lib/python3.10/dist-packages (from tf-models-official==2.14.0) (3.0.10)\n",
      "Requirement already satisfied: Pillow in /usr/local/lib/python3.10/dist-packages (from tf-models-official==2.14.0) (9.4.0)\n",
      "Requirement already satisfied: gin-config in /usr/local/lib/python3.10/dist-packages (from tf-models-official==2.14.0) (0.5.0)\n",
      "Requirement already satisfied: google-api-python-client>=1.6.7 in /usr/local/lib/python3.10/dist-packages (from tf-models-official==2.14.0) (2.84.0)\n",
      "Requirement already satisfied: immutabledict in /usr/local/lib/python3.10/dist-packages (from tf-models-official==2.14.0) (4.2.0)\n",
      "Requirement already satisfied: kaggle>=1.3.9 in /usr/local/lib/python3.10/dist-packages (from tf-models-official==2.14.0) (1.6.14)\n",
      "Requirement already satisfied: numpy>=1.20 in /usr/local/lib/python3.10/dist-packages (from tf-models-official==2.14.0) (1.25.2)\n",
      "Requirement already satisfied: oauth2client in /usr/local/lib/python3.10/dist-packages (from tf-models-official==2.14.0) (4.1.3)\n",
      "Requirement already satisfied: opencv-python-headless in /usr/local/lib/python3.10/dist-packages (from tf-models-official==2.14.0) (4.10.0.84)\n",
      "Requirement already satisfied: pandas>=0.22.0 in /usr/local/lib/python3.10/dist-packages (from tf-models-official==2.14.0) (2.0.3)\n",
      "Requirement already satisfied: psutil>=5.4.3 in /usr/local/lib/python3.10/dist-packages (from tf-models-official==2.14.0) (5.9.5)\n",
      "Requirement already satisfied: py-cpuinfo>=3.3.0 in /usr/local/lib/python3.10/dist-packages (from tf-models-official==2.14.0) (9.0.0)\n",
      "Requirement already satisfied: pycocotools in /usr/local/lib/python3.10/dist-packages (from tf-models-official==2.14.0) (2.0.8)\n",
      "Requirement already satisfied: pyyaml>=6.0.0 in /usr/local/lib/python3.10/dist-packages (from tf-models-official==2.14.0) (6.0.1)\n",
      "Collecting sacrebleu (from tf-models-official==2.14.0)\n",
      "  Downloading sacrebleu-2.4.2-py3-none-any.whl (106 kB)\n",
      "\u001b[2K     \u001b[90m━━━━━━━━━━━━━━━━━━━━━━━━━━━━━━━━━━━━━━━━\u001b[0m \u001b[32m106.7/106.7 kB\u001b[0m \u001b[31m10.5 MB/s\u001b[0m eta \u001b[36m0:00:00\u001b[0m\n",
      "\u001b[?25hRequirement already satisfied: scipy>=0.19.1 in /usr/local/lib/python3.10/dist-packages (from tf-models-official==2.14.0) (1.11.4)\n",
      "Requirement already satisfied: sentencepiece in /usr/local/lib/python3.10/dist-packages (from tf-models-official==2.14.0) (0.1.99)\n",
      "Collecting seqeval (from tf-models-official==2.14.0)\n",
      "  Downloading seqeval-1.2.2.tar.gz (43 kB)\n",
      "\u001b[2K     \u001b[90m━━━━━━━━━━━━━━━━━━━━━━━━━━━━━━━━━━━━━━━━\u001b[0m \u001b[32m43.6/43.6 kB\u001b[0m \u001b[31m4.1 MB/s\u001b[0m eta \u001b[36m0:00:00\u001b[0m\n",
      "\u001b[?25h  Preparing metadata (setup.py) ... \u001b[?25l\u001b[?25hdone\n",
      "Requirement already satisfied: six in /usr/local/lib/python3.10/dist-packages (from tf-models-official==2.14.0) (1.16.0)\n",
      "Requirement already satisfied: tensorflow-datasets in /usr/local/lib/python3.10/dist-packages (from tf-models-official==2.14.0) (4.9.6)\n",
      "Requirement already satisfied: tensorflow-hub>=0.6.0 in /usr/local/lib/python3.10/dist-packages (from tf-models-official==2.14.0) (0.16.1)\n",
      "Collecting tensorflow-model-optimization>=0.4.1 (from tf-models-official==2.14.0)\n",
      "  Downloading tensorflow_model_optimization-0.8.0-py2.py3-none-any.whl (242 kB)\n",
      "\u001b[2K     \u001b[90m━━━━━━━━━━━━━━━━━━━━━━━━━━━━━━━━━━━━━━━━\u001b[0m \u001b[32m242.5/242.5 kB\u001b[0m \u001b[31m19.4 MB/s\u001b[0m eta \u001b[36m0:00:00\u001b[0m\n",
      "\u001b[?25hCollecting tensorflow-text~=2.14.0 (from tf-models-official==2.14.0)\n",
      "  Downloading tensorflow_text-2.14.0-cp310-cp310-manylinux_2_17_x86_64.manylinux2014_x86_64.whl (6.5 MB)\n",
      "\u001b[2K     \u001b[90m━━━━━━━━━━━━━━━━━━━━━━━━━━━━━━━━━━━━━━━━\u001b[0m \u001b[32m6.5/6.5 MB\u001b[0m \u001b[31m69.4 MB/s\u001b[0m eta \u001b[36m0:00:00\u001b[0m\n",
      "\u001b[?25hCollecting tensorflow~=2.14.0 (from tf-models-official==2.14.0)\n",
      "  Downloading tensorflow-2.14.1-cp310-cp310-manylinux_2_17_x86_64.manylinux2014_x86_64.whl (489.9 MB)\n",
      "\u001b[2K     \u001b[90m━━━━━━━━━━━━━━━━━━━━━━━━━━━━━━━━━━━━━━━━\u001b[0m \u001b[32m489.9/489.9 MB\u001b[0m \u001b[31m1.3 MB/s\u001b[0m eta \u001b[36m0:00:00\u001b[0m\n",
      "\u001b[?25hRequirement already satisfied: tf-slim>=1.1.0 in /usr/local/lib/python3.10/dist-packages (from tf-models-official==2.14.0) (1.1.0)\n",
      "Requirement already satisfied: contourpy>=1.0.1 in /usr/local/lib/python3.10/dist-packages (from matplotlib) (1.2.1)\n",
      "Requirement already satisfied: cycler>=0.10 in /usr/local/lib/python3.10/dist-packages (from matplotlib) (0.12.1)\n",
      "Requirement already satisfied: fonttools>=4.22.0 in /usr/local/lib/python3.10/dist-packages (from matplotlib) (4.53.0)\n",
      "Requirement already satisfied: kiwisolver>=1.0.1 in /usr/local/lib/python3.10/dist-packages (from matplotlib) (1.4.5)\n",
      "Requirement already satisfied: packaging>=20.0 in /usr/local/lib/python3.10/dist-packages (from matplotlib) (24.1)\n",
      "Requirement already satisfied: pyparsing>=2.3.1 in /usr/local/lib/python3.10/dist-packages (from matplotlib) (3.1.2)\n",
      "Requirement already satisfied: python-dateutil>=2.7 in /usr/local/lib/python3.10/dist-packages (from matplotlib) (2.8.2)\n",
      "Requirement already satisfied: google-auth<3.0dev,>=1.25.0 in /usr/local/lib/python3.10/dist-packages (from google-cloud-storage) (2.27.0)\n",
      "Requirement already satisfied: google-api-core!=2.0.*,!=2.1.*,!=2.2.*,!=2.3.0,<3.0.0dev,>=1.31.5 in /usr/local/lib/python3.10/dist-packages (from google-cloud-storage) (2.16.2)\n",
      "Requirement already satisfied: google-cloud-core<3.0dev,>=2.3.0 in /usr/local/lib/python3.10/dist-packages (from google-cloud-storage) (2.3.3)\n",
      "Requirement already satisfied: google-resumable-media>=2.3.2 in /usr/local/lib/python3.10/dist-packages (from google-cloud-storage) (2.7.1)\n",
      "Requirement already satisfied: requests<3.0.0dev,>=2.18.0 in /usr/local/lib/python3.10/dist-packages (from google-cloud-storage) (2.31.0)\n",
      "Requirement already satisfied: googleapis-common-protos<2.0.dev0,>=1.56.2 in /usr/local/lib/python3.10/dist-packages (from google-api-core!=2.0.*,!=2.1.*,!=2.2.*,!=2.3.0,<3.0.0dev,>=1.31.5->google-cloud-storage) (1.63.2)\n",
      "Requirement already satisfied: protobuf!=3.20.0,!=3.20.1,!=4.21.0,!=4.21.1,!=4.21.2,!=4.21.3,!=4.21.4,!=4.21.5,<5.0.0.dev0,>=3.19.5 in /usr/local/lib/python3.10/dist-packages (from google-api-core!=2.0.*,!=2.1.*,!=2.2.*,!=2.3.0,<3.0.0dev,>=1.31.5->google-cloud-storage) (3.20.3)\n",
      "Requirement already satisfied: httplib2<1dev,>=0.15.0 in /usr/local/lib/python3.10/dist-packages (from google-api-python-client>=1.6.7->tf-models-official==2.14.0) (0.22.0)\n",
      "Requirement already satisfied: google-auth-httplib2>=0.1.0 in /usr/local/lib/python3.10/dist-packages (from google-api-python-client>=1.6.7->tf-models-official==2.14.0) (0.1.1)\n",
      "Requirement already satisfied: uritemplate<5,>=3.0.1 in /usr/local/lib/python3.10/dist-packages (from google-api-python-client>=1.6.7->tf-models-official==2.14.0) (4.1.1)\n",
      "Requirement already satisfied: cachetools<6.0,>=2.0.0 in /usr/local/lib/python3.10/dist-packages (from google-auth<3.0dev,>=1.25.0->google-cloud-storage) (5.3.3)\n",
      "Requirement already satisfied: pyasn1-modules>=0.2.1 in /usr/local/lib/python3.10/dist-packages (from google-auth<3.0dev,>=1.25.0->google-cloud-storage) (0.4.0)\n",
      "Requirement already satisfied: rsa<5,>=3.1.4 in /usr/local/lib/python3.10/dist-packages (from google-auth<3.0dev,>=1.25.0->google-cloud-storage) (4.9)\n",
      "Requirement already satisfied: google-crc32c<2.0dev,>=1.0 in /usr/local/lib/python3.10/dist-packages (from google-resumable-media>=2.3.2->google-cloud-storage) (1.5.0)\n",
      "Requirement already satisfied: certifi>=2023.7.22 in /usr/local/lib/python3.10/dist-packages (from kaggle>=1.3.9->tf-models-official==2.14.0) (2024.6.2)\n",
      "Requirement already satisfied: tqdm in /usr/local/lib/python3.10/dist-packages (from kaggle>=1.3.9->tf-models-official==2.14.0) (4.66.4)\n",
      "Requirement already satisfied: python-slugify in /usr/local/lib/python3.10/dist-packages (from kaggle>=1.3.9->tf-models-official==2.14.0) (8.0.4)\n",
      "Requirement already satisfied: urllib3 in /usr/local/lib/python3.10/dist-packages (from kaggle>=1.3.9->tf-models-official==2.14.0) (2.0.7)\n",
      "Requirement already satisfied: bleach in /usr/local/lib/python3.10/dist-packages (from kaggle>=1.3.9->tf-models-official==2.14.0) (6.1.0)\n",
      "Requirement already satisfied: pytz>=2020.1 in /usr/local/lib/python3.10/dist-packages (from pandas>=0.22.0->tf-models-official==2.14.0) (2023.4)\n",
      "Requirement already satisfied: tzdata>=2022.1 in /usr/local/lib/python3.10/dist-packages (from pandas>=0.22.0->tf-models-official==2.14.0) (2024.1)\n",
      "Requirement already satisfied: charset-normalizer<4,>=2 in /usr/local/lib/python3.10/dist-packages (from requests<3.0.0dev,>=2.18.0->google-cloud-storage) (3.3.2)\n",
      "Requirement already satisfied: idna<4,>=2.5 in /usr/local/lib/python3.10/dist-packages (from requests<3.0.0dev,>=2.18.0->google-cloud-storage) (3.7)\n",
      "Requirement already satisfied: absl-py>=1.0.0 in /usr/local/lib/python3.10/dist-packages (from tensorflow~=2.14.0->tf-models-official==2.14.0) (1.4.0)\n",
      "Requirement already satisfied: astunparse>=1.6.0 in /usr/local/lib/python3.10/dist-packages (from tensorflow~=2.14.0->tf-models-official==2.14.0) (1.6.3)\n",
      "Requirement already satisfied: flatbuffers>=23.5.26 in /usr/local/lib/python3.10/dist-packages (from tensorflow~=2.14.0->tf-models-official==2.14.0) (24.3.25)\n",
      "Requirement already satisfied: gast!=0.5.0,!=0.5.1,!=0.5.2,>=0.2.1 in /usr/local/lib/python3.10/dist-packages (from tensorflow~=2.14.0->tf-models-official==2.14.0) (0.6.0)\n",
      "Requirement already satisfied: google-pasta>=0.1.1 in /usr/local/lib/python3.10/dist-packages (from tensorflow~=2.14.0->tf-models-official==2.14.0) (0.2.0)\n",
      "Requirement already satisfied: h5py>=2.9.0 in /usr/local/lib/python3.10/dist-packages (from tensorflow~=2.14.0->tf-models-official==2.14.0) (3.9.0)\n",
      "Requirement already satisfied: libclang>=13.0.0 in /usr/local/lib/python3.10/dist-packages (from tensorflow~=2.14.0->tf-models-official==2.14.0) (18.1.1)\n",
      "Requirement already satisfied: ml-dtypes==0.2.0 in /usr/local/lib/python3.10/dist-packages (from tensorflow~=2.14.0->tf-models-official==2.14.0) (0.2.0)\n",
      "Requirement already satisfied: opt-einsum>=2.3.2 in /usr/local/lib/python3.10/dist-packages (from tensorflow~=2.14.0->tf-models-official==2.14.0) (3.3.0)\n",
      "Requirement already satisfied: setuptools in /usr/local/lib/python3.10/dist-packages (from tensorflow~=2.14.0->tf-models-official==2.14.0) (67.7.2)\n",
      "Requirement already satisfied: termcolor>=1.1.0 in /usr/local/lib/python3.10/dist-packages (from tensorflow~=2.14.0->tf-models-official==2.14.0) (2.4.0)\n",
      "Requirement already satisfied: typing-extensions>=3.6.6 in /usr/local/lib/python3.10/dist-packages (from tensorflow~=2.14.0->tf-models-official==2.14.0) (4.12.2)\n",
      "Requirement already satisfied: wrapt<1.15,>=1.11.0 in /usr/local/lib/python3.10/dist-packages (from tensorflow~=2.14.0->tf-models-official==2.14.0) (1.14.1)\n",
      "Requirement already satisfied: tensorflow-io-gcs-filesystem>=0.23.1 in /usr/local/lib/python3.10/dist-packages (from tensorflow~=2.14.0->tf-models-official==2.14.0) (0.37.0)\n",
      "Requirement already satisfied: grpcio<2.0,>=1.24.3 in /usr/local/lib/python3.10/dist-packages (from tensorflow~=2.14.0->tf-models-official==2.14.0) (1.64.1)\n",
      "Collecting tensorboard<2.15,>=2.14 (from tensorflow~=2.14.0->tf-models-official==2.14.0)\n",
      "  Downloading tensorboard-2.14.1-py3-none-any.whl (5.5 MB)\n",
      "\u001b[2K     \u001b[90m━━━━━━━━━━━━━━━━━━━━━━━━━━━━━━━━━━━━━━━━\u001b[0m \u001b[32m5.5/5.5 MB\u001b[0m \u001b[31m58.5 MB/s\u001b[0m eta \u001b[36m0:00:00\u001b[0m\n",
      "\u001b[?25hCollecting tensorflow-estimator<2.15,>=2.14.0 (from tensorflow~=2.14.0->tf-models-official==2.14.0)\n",
      "  Downloading tensorflow_estimator-2.14.0-py2.py3-none-any.whl (440 kB)\n",
      "\u001b[2K     \u001b[90m━━━━━━━━━━━━━━━━━━━━━━━━━━━━━━━━━━━━━━━━\u001b[0m \u001b[32m440.7/440.7 kB\u001b[0m \u001b[31m32.2 MB/s\u001b[0m eta \u001b[36m0:00:00\u001b[0m\n",
      "\u001b[?25hCollecting keras<2.15,>=2.14.0 (from tensorflow~=2.14.0->tf-models-official==2.14.0)\n",
      "  Downloading keras-2.14.0-py3-none-any.whl (1.7 MB)\n",
      "\u001b[2K     \u001b[90m━━━━━━━━━━━━━━━━━━━━━━━━━━━━━━━━━━━━━━━━\u001b[0m \u001b[32m1.7/1.7 MB\u001b[0m \u001b[31m59.2 MB/s\u001b[0m eta \u001b[36m0:00:00\u001b[0m\n",
      "\u001b[?25hRequirement already satisfied: tf-keras>=2.14.1 in /usr/local/lib/python3.10/dist-packages (from tensorflow-hub>=0.6.0->tf-models-official==2.14.0) (2.15.1)\n",
      "Requirement already satisfied: dm-tree~=0.1.1 in /usr/local/lib/python3.10/dist-packages (from tensorflow-model-optimization>=0.4.1->tf-models-official==2.14.0) (0.1.8)\n",
      "Requirement already satisfied: pyasn1>=0.1.7 in /usr/local/lib/python3.10/dist-packages (from oauth2client->tf-models-official==2.14.0) (0.6.0)\n",
      "Collecting portalocker (from sacrebleu->tf-models-official==2.14.0)\n",
      "  Downloading portalocker-2.10.0-py3-none-any.whl (18 kB)\n",
      "Requirement already satisfied: regex in /usr/local/lib/python3.10/dist-packages (from sacrebleu->tf-models-official==2.14.0) (2024.5.15)\n",
      "Requirement already satisfied: tabulate>=0.8.9 in /usr/local/lib/python3.10/dist-packages (from sacrebleu->tf-models-official==2.14.0) (0.9.0)\n",
      "Collecting colorama (from sacrebleu->tf-models-official==2.14.0)\n",
      "  Downloading colorama-0.4.6-py2.py3-none-any.whl (25 kB)\n",
      "Requirement already satisfied: lxml in /usr/local/lib/python3.10/dist-packages (from sacrebleu->tf-models-official==2.14.0) (4.9.4)\n",
      "Requirement already satisfied: scikit-learn>=0.21.3 in /usr/local/lib/python3.10/dist-packages (from seqeval->tf-models-official==2.14.0) (1.2.2)\n",
      "Requirement already satisfied: click in /usr/local/lib/python3.10/dist-packages (from tensorflow-datasets->tf-models-official==2.14.0) (8.1.7)\n",
      "Requirement already satisfied: promise in /usr/local/lib/python3.10/dist-packages (from tensorflow-datasets->tf-models-official==2.14.0) (2.3)\n",
      "Requirement already satisfied: pyarrow in /usr/local/lib/python3.10/dist-packages (from tensorflow-datasets->tf-models-official==2.14.0) (14.0.2)\n",
      "Requirement already satisfied: simple-parsing in /usr/local/lib/python3.10/dist-packages (from tensorflow-datasets->tf-models-official==2.14.0) (0.1.5)\n",
      "Requirement already satisfied: tensorflow-metadata in /usr/local/lib/python3.10/dist-packages (from tensorflow-datasets->tf-models-official==2.14.0) (1.15.0)\n",
      "Requirement already satisfied: toml in /usr/local/lib/python3.10/dist-packages (from tensorflow-datasets->tf-models-official==2.14.0) (0.10.2)\n",
      "Requirement already satisfied: array-record>=0.5.0 in /usr/local/lib/python3.10/dist-packages (from tensorflow-datasets->tf-models-official==2.14.0) (0.5.1)\n",
      "Requirement already satisfied: etils[enp,epath,epy,etree]>=1.6.0 in /usr/local/lib/python3.10/dist-packages (from tensorflow-datasets->tf-models-official==2.14.0) (1.7.0)\n",
      "Requirement already satisfied: wheel<1.0,>=0.23.0 in /usr/local/lib/python3.10/dist-packages (from astunparse>=1.6.0->tensorflow~=2.14.0->tf-models-official==2.14.0) (0.43.0)\n",
      "Requirement already satisfied: fsspec in /usr/local/lib/python3.10/dist-packages (from etils[enp,epath,epy,etree]>=1.6.0->tensorflow-datasets->tf-models-official==2.14.0) (2023.6.0)\n",
      "Requirement already satisfied: importlib_resources in /usr/local/lib/python3.10/dist-packages (from etils[enp,epath,epy,etree]>=1.6.0->tensorflow-datasets->tf-models-official==2.14.0) (6.4.0)\n",
      "Requirement already satisfied: zipp in /usr/local/lib/python3.10/dist-packages (from etils[enp,epath,epy,etree]>=1.6.0->tensorflow-datasets->tf-models-official==2.14.0) (3.19.2)\n",
      "Requirement already satisfied: joblib>=1.1.1 in /usr/local/lib/python3.10/dist-packages (from scikit-learn>=0.21.3->seqeval->tf-models-official==2.14.0) (1.4.2)\n",
      "Requirement already satisfied: threadpoolctl>=2.0.0 in /usr/local/lib/python3.10/dist-packages (from scikit-learn>=0.21.3->seqeval->tf-models-official==2.14.0) (3.5.0)\n",
      "Collecting google-auth-oauthlib<1.1,>=0.5 (from tensorboard<2.15,>=2.14->tensorflow~=2.14.0->tf-models-official==2.14.0)\n",
      "  Downloading google_auth_oauthlib-1.0.0-py2.py3-none-any.whl (18 kB)\n",
      "Requirement already satisfied: markdown>=2.6.8 in /usr/local/lib/python3.10/dist-packages (from tensorboard<2.15,>=2.14->tensorflow~=2.14.0->tf-models-official==2.14.0) (3.6)\n",
      "Requirement already satisfied: tensorboard-data-server<0.8.0,>=0.7.0 in /usr/local/lib/python3.10/dist-packages (from tensorboard<2.15,>=2.14->tensorflow~=2.14.0->tf-models-official==2.14.0) (0.7.2)\n",
      "Requirement already satisfied: werkzeug>=1.0.1 in /usr/local/lib/python3.10/dist-packages (from tensorboard<2.15,>=2.14->tensorflow~=2.14.0->tf-models-official==2.14.0) (3.0.3)\n",
      "INFO: pip is looking at multiple versions of tf-keras to determine which version is compatible with other requirements. This could take a while.\n",
      "Collecting tf-keras>=2.14.1 (from tensorflow-hub>=0.6.0->tf-models-official==2.14.0)\n",
      "  Downloading tf_keras-2.16.0-py3-none-any.whl (1.7 MB)\n",
      "\u001b[2K     \u001b[90m━━━━━━━━━━━━━━━━━━━━━━━━━━━━━━━━━━━━━━━━\u001b[0m \u001b[32m1.7/1.7 MB\u001b[0m \u001b[31m69.7 MB/s\u001b[0m eta \u001b[36m0:00:00\u001b[0m\n",
      "\u001b[?25h  Downloading tf_keras-2.15.0-py3-none-any.whl (1.7 MB)\n",
      "\u001b[2K     \u001b[90m━━━━━━━━━━━━━━━━━━━━━━━━━━━━━━━━━━━━━━━━\u001b[0m \u001b[32m1.7/1.7 MB\u001b[0m \u001b[31m65.9 MB/s\u001b[0m eta \u001b[36m0:00:00\u001b[0m\n",
      "\u001b[?25hRequirement already satisfied: webencodings in /usr/local/lib/python3.10/dist-packages (from bleach->kaggle>=1.3.9->tf-models-official==2.14.0) (0.5.1)\n",
      "Requirement already satisfied: text-unidecode>=1.3 in /usr/local/lib/python3.10/dist-packages (from python-slugify->kaggle>=1.3.9->tf-models-official==2.14.0) (1.3)\n",
      "Requirement already satisfied: docstring-parser~=0.15 in /usr/local/lib/python3.10/dist-packages (from simple-parsing->tensorflow-datasets->tf-models-official==2.14.0) (0.16)\n",
      "Requirement already satisfied: requests-oauthlib>=0.7.0 in /usr/local/lib/python3.10/dist-packages (from google-auth-oauthlib<1.1,>=0.5->tensorboard<2.15,>=2.14->tensorflow~=2.14.0->tf-models-official==2.14.0) (1.3.1)\n",
      "Requirement already satisfied: MarkupSafe>=2.1.1 in /usr/local/lib/python3.10/dist-packages (from werkzeug>=1.0.1->tensorboard<2.15,>=2.14->tensorflow~=2.14.0->tf-models-official==2.14.0) (2.1.5)\n",
      "Requirement already satisfied: oauthlib>=3.0.0 in /usr/local/lib/python3.10/dist-packages (from requests-oauthlib>=0.7.0->google-auth-oauthlib<1.1,>=0.5->tensorboard<2.15,>=2.14->tensorflow~=2.14.0->tf-models-official==2.14.0) (3.2.2)\n",
      "Building wheels for collected packages: seqeval\n",
      "  Building wheel for seqeval (setup.py) ... \u001b[?25l\u001b[?25hdone\n",
      "  Created wheel for seqeval: filename=seqeval-1.2.2-py3-none-any.whl size=16161 sha256=d872c0d7383dfee4c7da12fc1b50ca769b6c600f1320065a6eda6b1df618efd0\n",
      "  Stored in directory: /root/.cache/pip/wheels/1a/67/4a/ad4082dd7dfc30f2abfe4d80a2ed5926a506eb8a972b4767fa\n",
      "Successfully built seqeval\n",
      "Installing collected packages: tf-keras, tensorflow-model-optimization, tensorflow-estimator, portalocker, keras, colorama, sacrebleu, seqeval, google-auth-oauthlib, tensorboard, tensorflow, tensorflow-text, tf-models-official\n",
      "  Attempting uninstall: tf-keras\n",
      "    Found existing installation: tf_keras 2.15.1\n",
      "    Uninstalling tf_keras-2.15.1:\n",
      "      Successfully uninstalled tf_keras-2.15.1\n",
      "  Attempting uninstall: tensorflow-estimator\n",
      "    Found existing installation: tensorflow-estimator 2.15.0\n",
      "    Uninstalling tensorflow-estimator-2.15.0:\n",
      "      Successfully uninstalled tensorflow-estimator-2.15.0\n",
      "  Attempting uninstall: keras\n",
      "    Found existing installation: keras 2.15.0\n",
      "    Uninstalling keras-2.15.0:\n",
      "      Successfully uninstalled keras-2.15.0\n",
      "  Attempting uninstall: google-auth-oauthlib\n",
      "    Found existing installation: google-auth-oauthlib 1.2.0\n",
      "    Uninstalling google-auth-oauthlib-1.2.0:\n",
      "      Successfully uninstalled google-auth-oauthlib-1.2.0\n",
      "  Attempting uninstall: tensorboard\n",
      "    Found existing installation: tensorboard 2.15.2\n",
      "    Uninstalling tensorboard-2.15.2:\n",
      "      Successfully uninstalled tensorboard-2.15.2\n",
      "  Attempting uninstall: tensorflow\n",
      "    Found existing installation: tensorflow 2.15.0\n",
      "    Uninstalling tensorflow-2.15.0:\n",
      "      Successfully uninstalled tensorflow-2.15.0\n",
      "Successfully installed colorama-0.4.6 google-auth-oauthlib-1.0.0 keras-2.14.0 portalocker-2.10.0 sacrebleu-2.4.2 seqeval-1.2.2 tensorboard-2.14.1 tensorflow-2.14.1 tensorflow-estimator-2.14.0 tensorflow-model-optimization-0.8.0 tensorflow-text-2.14.0 tf-keras-2.15.0 tf-models-official-2.14.0\n",
      "Cloning into 'imaging-research'...\n",
      "remote: Enumerating objects: 825, done.\u001b[K\n",
      "remote: Counting objects: 100% (390/390), done.\u001b[K\n",
      "remote: Compressing objects: 100% (196/196), done.\u001b[K\n",
      "remote: Total 825 (delta 235), reused 264 (delta 189), pack-reused 435\u001b[K\n",
      "Receiving objects: 100% (825/825), 1.65 MiB | 15.78 MiB/s, done.\n",
      "Resolving deltas: 100% (509/509), done.\n",
      "Processing ./imaging-research/cxr-foundation\n",
      "  Preparing metadata (setup.py) ... \u001b[?25l\u001b[?25hdone\n",
      "Requirement already satisfied: google-api-python-client in /usr/local/lib/python3.10/dist-packages (from cxr-foundation==1.0.0) (2.84.0)\n",
      "Collecting google-apitools (from cxr-foundation==1.0.0)\n",
      "  Downloading google_apitools-0.5.32-py3-none-any.whl (135 kB)\n",
      "\u001b[2K     \u001b[90m━━━━━━━━━━━━━━━━━━━━━━━━━━━━━━━━━━━━━━━━\u001b[0m \u001b[32m135.7/135.7 kB\u001b[0m \u001b[31m3.2 MB/s\u001b[0m eta \u001b[36m0:00:00\u001b[0m\n",
      "\u001b[?25hRequirement already satisfied: google-cloud-aiplatform in /usr/local/lib/python3.10/dist-packages (from cxr-foundation==1.0.0) (1.57.0)\n",
      "Requirement already satisfied: pandas in /usr/local/lib/python3.10/dist-packages (from cxr-foundation==1.0.0) (2.0.3)\n",
      "Requirement already satisfied: tensorflow>=2.13.0 in /usr/local/lib/python3.10/dist-packages (from cxr-foundation==1.0.0) (2.14.1)\n",
      "Requirement already satisfied: pillow in /usr/local/lib/python3.10/dist-packages (from cxr-foundation==1.0.0) (9.4.0)\n",
      "Collecting pypng (from cxr-foundation==1.0.0)\n",
      "  Downloading pypng-0.20220715.0-py3-none-any.whl (58 kB)\n",
      "\u001b[2K     \u001b[90m━━━━━━━━━━━━━━━━━━━━━━━━━━━━━━━━━━━━━━━━\u001b[0m \u001b[32m58.1/58.1 kB\u001b[0m \u001b[31m7.6 MB/s\u001b[0m eta \u001b[36m0:00:00\u001b[0m\n",
      "\u001b[?25hCollecting pydicom (from cxr-foundation==1.0.0)\n",
      "  Downloading pydicom-2.4.4-py3-none-any.whl (1.8 MB)\n",
      "\u001b[2K     \u001b[90m━━━━━━━━━━━━━━━━━━━━━━━━━━━━━━━━━━━━━━━━\u001b[0m \u001b[32m1.8/1.8 MB\u001b[0m \u001b[31m30.6 MB/s\u001b[0m eta \u001b[36m0:00:00\u001b[0m\n",
      "\u001b[?25hRequirement already satisfied: typing-extensions in /usr/local/lib/python3.10/dist-packages (from cxr-foundation==1.0.0) (4.12.2)\n",
      "Requirement already satisfied: tensorflow_text in /usr/local/lib/python3.10/dist-packages (from cxr-foundation==1.0.0) (2.14.0)\n",
      "Requirement already satisfied: tensorflow-hub in /usr/local/lib/python3.10/dist-packages (from cxr-foundation==1.0.0) (0.16.1)\n",
      "Requirement already satisfied: absl-py>=1.0.0 in /usr/local/lib/python3.10/dist-packages (from tensorflow>=2.13.0->cxr-foundation==1.0.0) (1.4.0)\n",
      "Requirement already satisfied: astunparse>=1.6.0 in /usr/local/lib/python3.10/dist-packages (from tensorflow>=2.13.0->cxr-foundation==1.0.0) (1.6.3)\n",
      "Requirement already satisfied: flatbuffers>=23.5.26 in /usr/local/lib/python3.10/dist-packages (from tensorflow>=2.13.0->cxr-foundation==1.0.0) (24.3.25)\n",
      "Requirement already satisfied: gast!=0.5.0,!=0.5.1,!=0.5.2,>=0.2.1 in /usr/local/lib/python3.10/dist-packages (from tensorflow>=2.13.0->cxr-foundation==1.0.0) (0.6.0)\n",
      "Requirement already satisfied: google-pasta>=0.1.1 in /usr/local/lib/python3.10/dist-packages (from tensorflow>=2.13.0->cxr-foundation==1.0.0) (0.2.0)\n",
      "Requirement already satisfied: h5py>=2.9.0 in /usr/local/lib/python3.10/dist-packages (from tensorflow>=2.13.0->cxr-foundation==1.0.0) (3.9.0)\n",
      "Requirement already satisfied: libclang>=13.0.0 in /usr/local/lib/python3.10/dist-packages (from tensorflow>=2.13.0->cxr-foundation==1.0.0) (18.1.1)\n",
      "Requirement already satisfied: ml-dtypes==0.2.0 in /usr/local/lib/python3.10/dist-packages (from tensorflow>=2.13.0->cxr-foundation==1.0.0) (0.2.0)\n",
      "Requirement already satisfied: numpy<2.0.0,>=1.23.5 in /usr/local/lib/python3.10/dist-packages (from tensorflow>=2.13.0->cxr-foundation==1.0.0) (1.25.2)\n",
      "Requirement already satisfied: opt-einsum>=2.3.2 in /usr/local/lib/python3.10/dist-packages (from tensorflow>=2.13.0->cxr-foundation==1.0.0) (3.3.0)\n",
      "Requirement already satisfied: packaging in /usr/local/lib/python3.10/dist-packages (from tensorflow>=2.13.0->cxr-foundation==1.0.0) (24.1)\n",
      "Requirement already satisfied: protobuf!=4.21.0,!=4.21.1,!=4.21.2,!=4.21.3,!=4.21.4,!=4.21.5,<5.0.0dev,>=3.20.3 in /usr/local/lib/python3.10/dist-packages (from tensorflow>=2.13.0->cxr-foundation==1.0.0) (3.20.3)\n",
      "Requirement already satisfied: setuptools in /usr/local/lib/python3.10/dist-packages (from tensorflow>=2.13.0->cxr-foundation==1.0.0) (67.7.2)\n",
      "Requirement already satisfied: six>=1.12.0 in /usr/local/lib/python3.10/dist-packages (from tensorflow>=2.13.0->cxr-foundation==1.0.0) (1.16.0)\n",
      "Requirement already satisfied: termcolor>=1.1.0 in /usr/local/lib/python3.10/dist-packages (from tensorflow>=2.13.0->cxr-foundation==1.0.0) (2.4.0)\n",
      "Requirement already satisfied: wrapt<1.15,>=1.11.0 in /usr/local/lib/python3.10/dist-packages (from tensorflow>=2.13.0->cxr-foundation==1.0.0) (1.14.1)\n",
      "Requirement already satisfied: tensorflow-io-gcs-filesystem>=0.23.1 in /usr/local/lib/python3.10/dist-packages (from tensorflow>=2.13.0->cxr-foundation==1.0.0) (0.37.0)\n",
      "Requirement already satisfied: grpcio<2.0,>=1.24.3 in /usr/local/lib/python3.10/dist-packages (from tensorflow>=2.13.0->cxr-foundation==1.0.0) (1.64.1)\n",
      "Requirement already satisfied: tensorboard<2.15,>=2.14 in /usr/local/lib/python3.10/dist-packages (from tensorflow>=2.13.0->cxr-foundation==1.0.0) (2.14.1)\n",
      "Requirement already satisfied: tensorflow-estimator<2.15,>=2.14.0 in /usr/local/lib/python3.10/dist-packages (from tensorflow>=2.13.0->cxr-foundation==1.0.0) (2.14.0)\n",
      "Requirement already satisfied: keras<2.15,>=2.14.0 in /usr/local/lib/python3.10/dist-packages (from tensorflow>=2.13.0->cxr-foundation==1.0.0) (2.14.0)\n",
      "Requirement already satisfied: httplib2<1dev,>=0.15.0 in /usr/local/lib/python3.10/dist-packages (from google-api-python-client->cxr-foundation==1.0.0) (0.22.0)\n",
      "Requirement already satisfied: google-auth<3.0.0dev,>=1.19.0 in /usr/local/lib/python3.10/dist-packages (from google-api-python-client->cxr-foundation==1.0.0) (2.27.0)\n",
      "Requirement already satisfied: google-auth-httplib2>=0.1.0 in /usr/local/lib/python3.10/dist-packages (from google-api-python-client->cxr-foundation==1.0.0) (0.1.1)\n",
      "Requirement already satisfied: google-api-core!=2.0.*,!=2.1.*,!=2.2.*,!=2.3.0,<3.0.0dev,>=1.31.5 in /usr/local/lib/python3.10/dist-packages (from google-api-python-client->cxr-foundation==1.0.0) (2.16.2)\n",
      "Requirement already satisfied: uritemplate<5,>=3.0.1 in /usr/local/lib/python3.10/dist-packages (from google-api-python-client->cxr-foundation==1.0.0) (4.1.1)\n",
      "Collecting fasteners>=0.14 (from google-apitools->cxr-foundation==1.0.0)\n",
      "  Downloading fasteners-0.19-py3-none-any.whl (18 kB)\n",
      "Requirement already satisfied: oauth2client>=1.4.12 in /usr/local/lib/python3.10/dist-packages (from google-apitools->cxr-foundation==1.0.0) (4.1.3)\n",
      "Requirement already satisfied: proto-plus<2.0.0dev,>=1.22.0 in /usr/local/lib/python3.10/dist-packages (from google-cloud-aiplatform->cxr-foundation==1.0.0) (1.24.0)\n",
      "Requirement already satisfied: google-cloud-storage<3.0.0dev,>=1.32.0 in /usr/local/lib/python3.10/dist-packages (from google-cloud-aiplatform->cxr-foundation==1.0.0) (2.8.0)\n",
      "Requirement already satisfied: google-cloud-bigquery!=3.20.0,<4.0.0dev,>=1.15.0 in /usr/local/lib/python3.10/dist-packages (from google-cloud-aiplatform->cxr-foundation==1.0.0) (3.21.0)\n",
      "Requirement already satisfied: google-cloud-resource-manager<3.0.0dev,>=1.3.3 in /usr/local/lib/python3.10/dist-packages (from google-cloud-aiplatform->cxr-foundation==1.0.0) (1.12.3)\n",
      "Requirement already satisfied: shapely<3.0.0dev in /usr/local/lib/python3.10/dist-packages (from google-cloud-aiplatform->cxr-foundation==1.0.0) (2.0.4)\n",
      "Requirement already satisfied: pydantic<3 in /usr/local/lib/python3.10/dist-packages (from google-cloud-aiplatform->cxr-foundation==1.0.0) (2.8.0)\n",
      "Requirement already satisfied: docstring-parser<1 in /usr/local/lib/python3.10/dist-packages (from google-cloud-aiplatform->cxr-foundation==1.0.0) (0.16)\n",
      "Requirement already satisfied: python-dateutil>=2.8.2 in /usr/local/lib/python3.10/dist-packages (from pandas->cxr-foundation==1.0.0) (2.8.2)\n",
      "Requirement already satisfied: pytz>=2020.1 in /usr/local/lib/python3.10/dist-packages (from pandas->cxr-foundation==1.0.0) (2023.4)\n",
      "Requirement already satisfied: tzdata>=2022.1 in /usr/local/lib/python3.10/dist-packages (from pandas->cxr-foundation==1.0.0) (2024.1)\n",
      "Requirement already satisfied: tf-keras>=2.14.1 in /usr/local/lib/python3.10/dist-packages (from tensorflow-hub->cxr-foundation==1.0.0) (2.15.0)\n",
      "Requirement already satisfied: wheel<1.0,>=0.23.0 in /usr/local/lib/python3.10/dist-packages (from astunparse>=1.6.0->tensorflow>=2.13.0->cxr-foundation==1.0.0) (0.43.0)\n",
      "Requirement already satisfied: googleapis-common-protos<2.0.dev0,>=1.56.2 in /usr/local/lib/python3.10/dist-packages (from google-api-core!=2.0.*,!=2.1.*,!=2.2.*,!=2.3.0,<3.0.0dev,>=1.31.5->google-api-python-client->cxr-foundation==1.0.0) (1.63.2)\n",
      "Requirement already satisfied: requests<3.0.0.dev0,>=2.18.0 in /usr/local/lib/python3.10/dist-packages (from google-api-core!=2.0.*,!=2.1.*,!=2.2.*,!=2.3.0,<3.0.0dev,>=1.31.5->google-api-python-client->cxr-foundation==1.0.0) (2.31.0)\n",
      "Requirement already satisfied: grpcio-status<2.0.dev0,>=1.33.2 in /usr/local/lib/python3.10/dist-packages (from google-api-core!=2.0.*,!=2.1.*,!=2.2.*,!=2.3.0,<3.0.0dev,>=1.31.5->google-api-python-client->cxr-foundation==1.0.0) (1.48.2)\n",
      "Requirement already satisfied: cachetools<6.0,>=2.0.0 in /usr/local/lib/python3.10/dist-packages (from google-auth<3.0.0dev,>=1.19.0->google-api-python-client->cxr-foundation==1.0.0) (5.3.3)\n",
      "Requirement already satisfied: pyasn1-modules>=0.2.1 in /usr/local/lib/python3.10/dist-packages (from google-auth<3.0.0dev,>=1.19.0->google-api-python-client->cxr-foundation==1.0.0) (0.4.0)\n",
      "Requirement already satisfied: rsa<5,>=3.1.4 in /usr/local/lib/python3.10/dist-packages (from google-auth<3.0.0dev,>=1.19.0->google-api-python-client->cxr-foundation==1.0.0) (4.9)\n",
      "Requirement already satisfied: google-cloud-core<3.0.0dev,>=1.6.0 in /usr/local/lib/python3.10/dist-packages (from google-cloud-bigquery!=3.20.0,<4.0.0dev,>=1.15.0->google-cloud-aiplatform->cxr-foundation==1.0.0) (2.3.3)\n",
      "Requirement already satisfied: google-resumable-media<3.0dev,>=0.6.0 in /usr/local/lib/python3.10/dist-packages (from google-cloud-bigquery!=3.20.0,<4.0.0dev,>=1.15.0->google-cloud-aiplatform->cxr-foundation==1.0.0) (2.7.1)\n",
      "Requirement already satisfied: grpc-google-iam-v1<1.0.0dev,>=0.12.4 in /usr/local/lib/python3.10/dist-packages (from google-cloud-resource-manager<3.0.0dev,>=1.3.3->google-cloud-aiplatform->cxr-foundation==1.0.0) (0.13.1)\n",
      "Requirement already satisfied: pyparsing!=3.0.0,!=3.0.1,!=3.0.2,!=3.0.3,<4,>=2.4.2 in /usr/local/lib/python3.10/dist-packages (from httplib2<1dev,>=0.15.0->google-api-python-client->cxr-foundation==1.0.0) (3.1.2)\n",
      "Requirement already satisfied: pyasn1>=0.1.7 in /usr/local/lib/python3.10/dist-packages (from oauth2client>=1.4.12->google-apitools->cxr-foundation==1.0.0) (0.6.0)\n",
      "Requirement already satisfied: annotated-types>=0.4.0 in /usr/local/lib/python3.10/dist-packages (from pydantic<3->google-cloud-aiplatform->cxr-foundation==1.0.0) (0.7.0)\n",
      "Requirement already satisfied: pydantic-core==2.20.0 in /usr/local/lib/python3.10/dist-packages (from pydantic<3->google-cloud-aiplatform->cxr-foundation==1.0.0) (2.20.0)\n",
      "Requirement already satisfied: google-auth-oauthlib<1.1,>=0.5 in /usr/local/lib/python3.10/dist-packages (from tensorboard<2.15,>=2.14->tensorflow>=2.13.0->cxr-foundation==1.0.0) (1.0.0)\n",
      "Requirement already satisfied: markdown>=2.6.8 in /usr/local/lib/python3.10/dist-packages (from tensorboard<2.15,>=2.14->tensorflow>=2.13.0->cxr-foundation==1.0.0) (3.6)\n",
      "Requirement already satisfied: tensorboard-data-server<0.8.0,>=0.7.0 in /usr/local/lib/python3.10/dist-packages (from tensorboard<2.15,>=2.14->tensorflow>=2.13.0->cxr-foundation==1.0.0) (0.7.2)\n",
      "Requirement already satisfied: werkzeug>=1.0.1 in /usr/local/lib/python3.10/dist-packages (from tensorboard<2.15,>=2.14->tensorflow>=2.13.0->cxr-foundation==1.0.0) (3.0.3)\n",
      "Requirement already satisfied: requests-oauthlib>=0.7.0 in /usr/local/lib/python3.10/dist-packages (from google-auth-oauthlib<1.1,>=0.5->tensorboard<2.15,>=2.14->tensorflow>=2.13.0->cxr-foundation==1.0.0) (1.3.1)\n",
      "Requirement already satisfied: google-crc32c<2.0dev,>=1.0 in /usr/local/lib/python3.10/dist-packages (from google-resumable-media<3.0dev,>=0.6.0->google-cloud-bigquery!=3.20.0,<4.0.0dev,>=1.15.0->google-cloud-aiplatform->cxr-foundation==1.0.0) (1.5.0)\n",
      "Requirement already satisfied: charset-normalizer<4,>=2 in /usr/local/lib/python3.10/dist-packages (from requests<3.0.0.dev0,>=2.18.0->google-api-core!=2.0.*,!=2.1.*,!=2.2.*,!=2.3.0,<3.0.0dev,>=1.31.5->google-api-python-client->cxr-foundation==1.0.0) (3.3.2)\n",
      "Requirement already satisfied: idna<4,>=2.5 in /usr/local/lib/python3.10/dist-packages (from requests<3.0.0.dev0,>=2.18.0->google-api-core!=2.0.*,!=2.1.*,!=2.2.*,!=2.3.0,<3.0.0dev,>=1.31.5->google-api-python-client->cxr-foundation==1.0.0) (3.7)\n",
      "Requirement already satisfied: urllib3<3,>=1.21.1 in /usr/local/lib/python3.10/dist-packages (from requests<3.0.0.dev0,>=2.18.0->google-api-core!=2.0.*,!=2.1.*,!=2.2.*,!=2.3.0,<3.0.0dev,>=1.31.5->google-api-python-client->cxr-foundation==1.0.0) (2.0.7)\n",
      "Requirement already satisfied: certifi>=2017.4.17 in /usr/local/lib/python3.10/dist-packages (from requests<3.0.0.dev0,>=2.18.0->google-api-core!=2.0.*,!=2.1.*,!=2.2.*,!=2.3.0,<3.0.0dev,>=1.31.5->google-api-python-client->cxr-foundation==1.0.0) (2024.6.2)\n",
      "Requirement already satisfied: MarkupSafe>=2.1.1 in /usr/local/lib/python3.10/dist-packages (from werkzeug>=1.0.1->tensorboard<2.15,>=2.14->tensorflow>=2.13.0->cxr-foundation==1.0.0) (2.1.5)\n",
      "Requirement already satisfied: oauthlib>=3.0.0 in /usr/local/lib/python3.10/dist-packages (from requests-oauthlib>=0.7.0->google-auth-oauthlib<1.1,>=0.5->tensorboard<2.15,>=2.14->tensorflow>=2.13.0->cxr-foundation==1.0.0) (3.2.2)\n",
      "Building wheels for collected packages: cxr-foundation\n",
      "  Building wheel for cxr-foundation (setup.py) ... \u001b[?25l\u001b[?25hdone\n",
      "  Created wheel for cxr-foundation: filename=cxr_foundation-1.0.0-py3-none-any.whl size=17094 sha256=be70ccdf1c08942e896550e968dc3279e757dc38bbda22b8783b4649e5d6aba4\n",
      "  Stored in directory: /root/.cache/pip/wheels/e3/b6/ad/96bdd7e06bf72401f6e27261a8c0fa7a76bf43b7c50ccfbae6\n",
      "Successfully built cxr-foundation\n",
      "Installing collected packages: pypng, pydicom, fasteners, google-apitools, cxr-foundation\n",
      "Successfully installed cxr-foundation-1.0.0 fasteners-0.19 google-apitools-0.5.32 pydicom-2.4.4 pypng-0.20220715.0\n"
     ]
    }
   ],
   "source": [
    "# Notebook specific dependencies\n",
    "!pip install matplotlib tf-models-official==2.14.0 google-cloud-storage\n",
    "\n",
    "!git clone https://github.com/Google-Health/imaging-research.git\n",
    "!pip install imaging-research/cxr-foundation/"
   ]
  },
  {
   "cell_type": "code",
   "execution_count": 4,
   "metadata": {
    "colab": {
     "base_uri": "https://localhost:8080/"
    },
    "executionInfo": {
     "elapsed": 15682,
     "status": "ok",
     "timestamp": 1720750586625,
     "user": {
      "displayName": "Kunyu Yu",
      "userId": "14770751944604064967"
     },
     "user_tz": -480
    },
    "id": "NGRoMvLhqULv",
    "outputId": "fdc06b4d-ec79-4003-bc6f-3b491d3f7095"
   },
   "outputs": [
    {
     "name": "stdout",
     "output_type": "stream",
     "text": [
      "Requirement already satisfied: pydicom in /usr/local/lib/python3.10/dist-packages (2.4.4)\n"
     ]
    }
   ],
   "source": [
    "!pip install pydicom"
   ]
  },
  {
   "cell_type": "markdown",
   "metadata": {
    "id": "M0Q9fX6g5HCQ"
   },
   "source": [
    "### Authenticate to Access Data\n",
    "\n",
    "The following cell is for Colab only. If running elsewhere, authenticate with the [gcloud CLI](https://cloud.google.com/sdk/gcloud/reference/auth/login)."
   ]
  },
  {
   "cell_type": "code",
   "execution_count": 5,
   "metadata": {
    "executionInfo": {
     "elapsed": 18348,
     "status": "ok",
     "timestamp": 1720751288401,
     "user": {
      "displayName": "Kunyu Yu",
      "userId": "14770751944604064967"
     },
     "user_tz": -480
    },
    "id": "-ggypA8D5DI_"
   },
   "outputs": [],
   "source": [
    "from google.colab import auth\n",
    "\n",
    "# Authenticate user for access. There will be a popup asking you to sign in with your user and approve access.\n",
    "auth.authenticate_user()"
   ]
  },
  {
   "cell_type": "markdown",
   "metadata": {
    "id": "EYmEhq-g6QYZ"
   },
   "source": [
    "## Util functions and imports"
   ]
  },
  {
   "cell_type": "code",
   "execution_count": 6,
   "metadata": {
    "executionInfo": {
     "elapsed": 5588,
     "status": "ok",
     "timestamp": 1720751299442,
     "user": {
      "displayName": "Kunyu Yu",
      "userId": "14770751944604064967"
     },
     "user_tz": -480
    },
    "id": "LgGb-TEz6JQf"
   },
   "outputs": [],
   "source": [
    "import io\n",
    "import pydicom\n",
    "from PIL import Image\n",
    "from cxr_foundation import constants\n",
    "from cxr_foundation import example_generator_lib\n",
    "\n",
    "def show_dicom(dicom_path):\n",
    "    \"\"\"Displays a DICOM image.\"\"\"\n",
    "    # Read the DICOM file\n",
    "    dicom_data = pydicom.dcmread(dicom_path)\n",
    "\n",
    "    # Extract the image data\n",
    "    image = dicom_data.pixel_array\n",
    "\n",
    "    # Display the image\n",
    "    figure_size = 7\n",
    "    plt.figure(figsize=(figure_size, figure_size))\n",
    "    plt.imshow(image, cmap='gray')\n",
    "    plt.axis('off')\n",
    "    plt.show()"
   ]
  },
  {
   "cell_type": "code",
   "execution_count": 7,
   "metadata": {
    "executionInfo": {
     "elapsed": 2,
     "status": "ok",
     "timestamp": 1720751299442,
     "user": {
      "displayName": "Kunyu Yu",
      "userId": "14770751944604064967"
     },
     "user_tz": -480
    },
    "id": "-kW11Lot6ayi"
   },
   "outputs": [],
   "source": [
    "def generate_path(img_metadata,dicom_dir,embedding_dir,output_type):\n",
    "  \"\"\"Generate paths for dicoms and embeddings.\"\"\"\n",
    "  paths = []\n",
    "  for idx, row in img_metadata.iterrows():\n",
    "    p_id = str(int(row['subject_id']))\n",
    "    s_id = str(int(row['study_id']))\n",
    "    d_id = row['dicom_id']\n",
    "    remote_path = f\"files/p{p_id[:2]}/p{p_id}/s{s_id}/{d_id}.dcm\"\n",
    "    paths.append(remote_path)\n",
    "  # Path for DICOMs in google cloud\n",
    "  img_metadata['remote_dicom_file'] = paths\n",
    "  # Path for downloaded DICOMs\n",
    "  img_metadata[\"local_dicom_file\"] =  img_metadata['remote_dicom_file'].apply(\n",
    "      lambda x: os.path.join(dicom_dir, os.path.basename(x)))\n",
    "  # Path for generated embeddings\n",
    "  img_metadata[\"embedding_file\"] =  img_metadata['remote_dicom_file'].apply(\n",
    "      lambda x: os.path.join(embedding_dir, os.path.basename(x).replace(\".dcm\", output_type)))\n",
    "  return img_metadata"
   ]
  },
  {
   "cell_type": "code",
   "execution_count": 8,
   "metadata": {
    "executionInfo": {
     "elapsed": 1,
     "status": "ok",
     "timestamp": 1720751299442,
     "user": {
      "displayName": "Kunyu Yu",
      "userId": "14770751944604064967"
     },
     "user_tz": -480
    },
    "id": "hnmnVQd46nzR"
   },
   "outputs": [],
   "source": [
    "def download_blob(bucket_name, source_blob_name, destination_file_name, project_id):\n",
    "    \"\"\"Downloads a blob from the bucket.\"\"\"\n",
    "    bucket = storage_client.bucket(bucket_name, user_project=project_id)\n",
    "    blob = bucket.blob(source_blob_name)\n",
    "    blob.download_to_filename(destination_file_name)\n",
    "    # print(f\"Blob {source_blob_name} downloaded to {destination_file_name}.\")"
   ]
  },
  {
   "cell_type": "markdown",
   "metadata": {
    "id": "4aTWb2M27H6e"
   },
   "source": [
    "## Download pre-processed ICU information"
   ]
  },
  {
   "cell_type": "code",
   "execution_count": 5,
   "metadata": {
    "colab": {
     "base_uri": "https://localhost:8080/"
    },
    "executionInfo": {
     "elapsed": 16507,
     "status": "ok",
     "timestamp": 1720793234368,
     "user": {
      "displayName": "Kunyu Yu",
      "userId": "14770751944604064967"
     },
     "user_tz": -480
    },
    "id": "kOOmu0wW7DQn",
    "outputId": "568a3601-b573-4bba-a7bc-435ba2637716"
   },
   "outputs": [
    {
     "name": "stdout",
     "output_type": "stream",
     "text": [
      "Mounted at /content/drive\n"
     ]
    }
   ],
   "source": [
    "from google.colab import drive\n",
    "drive.mount('/content/drive')"
   ]
  },
  {
   "cell_type": "code",
   "execution_count": null,
   "metadata": {
    "colab": {
     "base_uri": "https://localhost:8080/",
     "height": 73
    },
    "executionInfo": {
     "elapsed": 6949,
     "status": "ok",
     "timestamp": 1720793242569,
     "user": {
      "displayName": "Kunyu Yu",
      "userId": "14770751944604064967"
     },
     "user_tz": -480
    },
    "id": "dragGhh76-Vu",
    "outputId": "70b23677-f22f-4f19-a827-320ade6d60c3"
   },
   "outputs": [],
   "source": [
    "from google.colab import files\n",
    "uploaded = files.upload()\n",
    "# Upload data_utils.py"
   ]
  },
  {
   "cell_type": "code",
   "execution_count": 5,
   "metadata": {
    "executionInfo": {
     "elapsed": 167975,
     "status": "ok",
     "timestamp": 1720793412347,
     "user": {
      "displayName": "Kunyu Yu",
      "userId": "14770751944604064967"
     },
     "user_tz": -480
    },
    "id": "thqpKsrk7Rtb"
   },
   "outputs": [],
   "source": [
    "path = '/content/drive/My Drive/MIMIC_Multimodal_Data/'\n",
    "\n",
    "icus = pickle.load(open(path+'processed_icu_24h.pkl','rb'))\n",
    "metadata = pd.read_csv(path+'metadata_24h.csv',index_col=0)"
   ]
  },
  {
   "cell_type": "markdown",
   "metadata": {
    "id": "grvcvCqS7Yh7"
   },
   "source": [
    "### Index list of ICU stays with usable Chest X-Rays"
   ]
  },
  {
   "cell_type": "code",
   "execution_count": 8,
   "metadata": {
    "executionInfo": {
     "elapsed": 562,
     "status": "ok",
     "timestamp": 1720793785888,
     "user": {
      "displayName": "Kunyu Yu",
      "userId": "14770751944604064967"
     },
     "user_tz": -480
    },
    "id": "egpHRdWyncv5"
   },
   "outputs": [],
   "source": [
    "allowed_view_position = ['AP', 'PA']"
   ]
  },
  {
   "cell_type": "code",
   "execution_count": 9,
   "metadata": {
    "executionInfo": {
     "elapsed": 44906,
     "status": "ok",
     "timestamp": 1720793832253,
     "user": {
      "displayName": "Kunyu Yu",
      "userId": "14770751944604064967"
     },
     "user_tz": -480
    },
    "id": "6VJeCKrp7UBu"
   },
   "outputs": [],
   "source": [
    "idx_list = []\n",
    "vp = []\n",
    "num_imgs = []\n",
    "# all_img_metadata = pd.DataFrame()\n",
    "for i in range(len(icus)):\n",
    "  icu = icus[i]\n",
    "  img_metadata = icu.images['metadata']\n",
    "  # Filter out images whose view position is not in accepted set\n",
    "  filtered_img_metadata = img_metadata[img_metadata['ViewPosition'].isin(allowed_view_position)]\n",
    "  if not filtered_img_metadata.empty:\n",
    "    idx_list.append(i)\n",
    "    num_imgs.append(len(filtered_img_metadata))\n",
    "    # all_img_metadata = pd.concat([all_img_metadata, img_metadata])"
   ]
  },
  {
   "cell_type": "code",
   "execution_count": 10,
   "metadata": {
    "colab": {
     "base_uri": "https://localhost:8080/"
    },
    "executionInfo": {
     "elapsed": 424,
     "status": "ok",
     "timestamp": 1720793836369,
     "user": {
      "displayName": "Kunyu Yu",
      "userId": "14770751944604064967"
     },
     "user_tz": -480
    },
    "id": "XNzHKCXvnoxz",
    "outputId": "fb2188a2-aa0d-47bc-f06d-56c0e14a7c1d"
   },
   "outputs": [
    {
     "name": "stdout",
     "output_type": "stream",
     "text": [
      "11181\n",
      "count    11181.000000\n",
      "mean         1.510688\n",
      "std          0.885279\n",
      "min          1.000000\n",
      "25%          1.000000\n",
      "50%          1.000000\n",
      "75%          2.000000\n",
      "max         14.000000\n",
      "dtype: float64\n"
     ]
    }
   ],
   "source": [
    "print(len(idx_list))\n",
    "print(pd.Series(num_imgs).describe())"
   ]
  },
  {
   "cell_type": "markdown",
   "metadata": {
    "id": "VfKA6tvuoiU8"
   },
   "source": [
    "## Download DICOMs from Google Cloud & Generate all embeddings"
   ]
  },
  {
   "cell_type": "markdown",
   "metadata": {},
   "source": [
    "Request access to the files using the Google Cloud Storage Browser from https://physionet.org/content/mimic-cxr-jpg/2.1.0/"
   ]
  },
  {
   "cell_type": "markdown",
   "metadata": {
    "id": "rE96P4PZo4fq"
   },
   "source": [
    "### Paths"
   ]
  },
  {
   "cell_type": "code",
   "execution_count": 3,
   "metadata": {
    "executionInfo": {
     "elapsed": 384,
     "status": "ok",
     "timestamp": 1720793202536,
     "user": {
      "displayName": "Kunyu Yu",
      "userId": "14770751944604064967"
     },
     "user_tz": -480
    },
    "id": "lmy5GEyEnJ9D"
   },
   "outputs": [],
   "source": [
    "DICOM_DIR = '/content/drive/My Drive/MIMIC_Multimodal_Data/dicoms' #@param {type: 'string'}\n",
    "EMBEDDINGS_DIR = '/content/drive/My Drive/MIMIC_Multimodal_Data/embeddings' #@param {type: 'string'}\n",
    "OUTPUT_TYPE = '.npz'#@param {type: 'string'}\n",
    "OUTPUT_DIR = '/content/drive/My Drive/MIMIC_Multimodal_Data/outputs' #@param {type: 'string'}"
   ]
  },
  {
   "cell_type": "markdown",
   "metadata": {
    "id": "KWzSmTA4pTzA"
   },
   "source": [
    "### Get access for downloading DICOMs"
   ]
  },
  {
   "cell_type": "code",
   "execution_count": 16,
   "metadata": {
    "executionInfo": {
     "elapsed": 355,
     "status": "ok",
     "timestamp": 1720751644194,
     "user": {
      "displayName": "Kunyu Yu",
      "userId": "14770751944604064967"
     },
     "user_tz": -480
    },
    "id": "-I0PXwqKpO_v"
   },
   "outputs": [],
   "source": [
    "project_id = 'your-project-id' # fill in the project id of your project to bill\n",
    "bucket_name = 'mimic-cxr-2.0.0.physionet.org'"
   ]
  },
  {
   "cell_type": "code",
   "execution_count": 17,
   "metadata": {
    "executionInfo": {
     "elapsed": 565,
     "status": "ok",
     "timestamp": 1720751645574,
     "user": {
      "displayName": "Kunyu Yu",
      "userId": "14770751944604064967"
     },
     "user_tz": -480
    },
    "id": "LF12RJMxpXii"
   },
   "outputs": [],
   "source": [
    "from google.cloud import storage\n",
    "# Create a storage client\n",
    "storage_client = storage.Client()"
   ]
  },
  {
   "cell_type": "markdown",
   "metadata": {
    "id": "kGEVeSPXqPqa"
   },
   "source": [
    "### Selection between embedding versions\n",
    "\n",
    "#### Embedding Version\n",
    "\n",
    "We support the following three embedding versions:\n",
    "- cxr_foundation: the original CXR foundation embedding\n",
    "- elixr: the raw image embedding from the Q-former output in ELIXR (https://arxiv.org/abs/2308.01317), can be used for data-efficient classification (same as CXR foundation embedding)\n",
    "- elixr_img_contrastive: the text-aligned image embedding from the Q-former output in ELIXR (https://arxiv.org/abs/2308.01317), can be used for image retrieval. Refer to \"Image Retrieval Demo\" section in this colab for example usage."
   ]
  },
  {
   "cell_type": "code",
   "execution_count": 18,
   "metadata": {
    "executionInfo": {
     "elapsed": 5028,
     "status": "ok",
     "timestamp": 1720751654001,
     "user": {
      "displayName": "Kunyu Yu",
      "userId": "14770751944604064967"
     },
     "user_tz": -480
    },
    "id": "PXpfD2dqpY8-"
   },
   "outputs": [],
   "source": [
    "from cxr_foundation.inference import generate_embeddings\n",
    "from cxr_foundation import embeddings_data\n",
    "from cxr_foundation.embeddings_data import read_tfrecord_values, read_npz_values, get_dataset\n",
    "\n",
    "# help(generate_embeddings)\n",
    "# help(read_tfrecord_values)\n",
    "# help(read_npz_values)\n",
    "# help(get_dataset)"
   ]
  },
  {
   "cell_type": "code",
   "execution_count": 19,
   "metadata": {
    "executionInfo": {
     "elapsed": 13049,
     "status": "ok",
     "timestamp": 1720751667048,
     "user": {
      "displayName": "Kunyu Yu",
      "userId": "14770751944604064967"
     },
     "user_tz": -480
    },
    "id": "m9N3Vp6hqXu2"
   },
   "outputs": [],
   "source": [
    "from cxr_foundation.inference import ModelVersion\n",
    "import shutil\n",
    "\n",
    "EMBEDDING_VERSION = 'cxr_foundation' #@param ['elixr', 'cxr_foundation', 'elixr_img_contrastive']\n",
    "if EMBEDDING_VERSION == 'cxr_foundation':\n",
    "  MODEL_VERSION = ModelVersion.V1\n",
    "  TOKEN_NUM = 1\n",
    "  EMBEDDINGS_SIZE = 1376\n",
    "elif EMBEDDING_VERSION == 'elixr':\n",
    "  MODEL_VERSION = ModelVersion.V2\n",
    "  TOKEN_NUM = 32\n",
    "  EMBEDDINGS_SIZE = 768\n",
    "elif EMBEDDING_VERSION == 'elixr_img_contrastive':\n",
    "  MODEL_VERSION = ModelVersion.V2_CONTRASTIVE\n",
    "  TOKEN_NUM = 32\n",
    "  EMBEDDINGS_SIZE = 128\n",
    "if not os.path.exists(EMBEDDINGS_DIR):\n",
    "  os.makedirs(EMBEDDINGS_DIR)\n",
    "else:\n",
    "  # Empty embedding dir to avoid caching when switching embedding versions\n",
    "  shutil.rmtree(EMBEDDINGS_DIR)\n",
    "  os.makedirs(EMBEDDINGS_DIR)"
   ]
  },
  {
   "cell_type": "code",
   "execution_count": 20,
   "metadata": {
    "executionInfo": {
     "elapsed": 367,
     "status": "ok",
     "timestamp": 1720751675703,
     "user": {
      "displayName": "Kunyu Yu",
      "userId": "14770751944604064967"
     },
     "user_tz": -480
    },
    "id": "xD54OfkcqaU2"
   },
   "outputs": [],
   "source": [
    "import logging\n",
    "\n",
    "from cxr_foundation.inference import generate_embeddings, InputFileType, OutputFileType, ModelVersion\n",
    "\n",
    "logger = logging.getLogger()\n",
    "logger.setLevel(logging.INFO)"
   ]
  },
  {
   "cell_type": "markdown",
   "metadata": {
    "id": "O9t3xAIdqsDv"
   },
   "source": [
    "### Generate and store embedding outputs"
   ]
  },
  {
   "cell_type": "code",
   "execution_count": 22,
   "metadata": {
    "executionInfo": {
     "elapsed": 377,
     "status": "ok",
     "timestamp": 1720751699962,
     "user": {
      "displayName": "Kunyu Yu",
      "userId": "14770751944604064967"
     },
     "user_tz": -480
    },
    "id": "QBBDGiSh76zT"
   },
   "outputs": [],
   "source": [
    "pd.options.mode.chained_assignment = None"
   ]
  },
  {
   "cell_type": "code",
   "execution_count": null,
   "metadata": {
    "colab": {
     "base_uri": "https://localhost:8080/"
    },
    "executionInfo": {
     "elapsed": 210958,
     "status": "ok",
     "timestamp": 1720790655183,
     "user": {
      "displayName": "Kunyu Yu",
      "userId": "14770751944604064967"
     },
     "user_tz": -480
    },
    "id": "wYWm4spOqh5_",
    "outputId": "952a1d45-d46a-4583-ed8e-7c6ea9d083e9"
   },
   "outputs": [],
   "source": [
    "i = 0\n",
    "for idx in idx_list[0:]:\n",
    "  icu = icus[idx]\n",
    "  img_metadata = icu.images['metadata']\n",
    "  # Filter out images whose view position is not in accepted set\n",
    "  filtered_img_metadata = img_metadata[img_metadata['ViewPosition'].isin(allowed_view_position)]\n",
    "  df_img_metadata = generate_path(filtered_img_metadata,DICOM_DIR,EMBEDDINGS_DIR,OUTPUT_TYPE)\n",
    "  # print(idx)\n",
    "  # display(df_img_metadata)\n",
    "  for _,row in df_img_metadata.iterrows():\n",
    "    source_blob_name = row['remote_dicom_file']\n",
    "    destination_file_name = row['local_dicom_file']\n",
    "    # Download DICOMs from Google Cloud Storage\n",
    "    download_blob(bucket_name, source_blob_name, destination_file_name, project_id)\n",
    "    # Display DICOMs\n",
    "    # show_dicom(destination_file_name)\n",
    "\n",
    "  # Generate and store a few embeddings in .npz format\n",
    "  generate_embeddings(input_files=df_img_metadata[\"local_dicom_file\"].values, output_dir=EMBEDDINGS_DIR,\n",
    "                      input_type=InputFileType.DICOM, output_type=OutputFileType.NPZ, model_version=MODEL_VERSION)\n",
    "\n",
    "  # Read the data from generated .npz embeddings file\n",
    "  embeddings = []\n",
    "  for _,row in df_img_metadata.iterrows():\n",
    "    embedding_name = row[\"embedding_file\"]\n",
    "    value = embeddings_data.read_npz_values(embedding_name)\n",
    "    embeddings.append(value)\n",
    "  output_embedding = np.mean(embeddings, axis=0)\n",
    "  # print(\"Output Embedding:\", output_embedding)\n",
    "  # print(output_embedding.shape)\n",
    "\n",
    "  # Export averaged embeddings\n",
    "  output_path = os.path.join(OUTPUT_DIR, f'CXR_{idx}.npz')\n",
    "  np.savez_compressed(output_path, array=output_embedding)\n",
    "  print(f'idx: {idx}, i: {i}')\n",
    "  i += 1"
   ]
  },
  {
   "cell_type": "markdown",
   "metadata": {},
   "source": [
    "### Integrate generated embeddings"
   ]
  },
  {
   "cell_type": "code",
   "execution_count": 6,
   "metadata": {},
   "outputs": [],
   "source": [
    "# Directory for output embeddings\n",
    "OUTPUT_DIR = './embeddings/cxr_foundation_outputs/'"
   ]
  },
  {
   "cell_type": "code",
   "execution_count": 11,
   "metadata": {
    "colab": {
     "base_uri": "https://localhost:8080/"
    },
    "executionInfo": {
     "elapsed": 4376777,
     "status": "ok",
     "timestamp": 1720798338809,
     "user": {
      "displayName": "Kunyu Yu",
      "userId": "14770751944604064967"
     },
     "user_tz": -480
    },
    "id": "dhdHUQqjLWW3",
    "outputId": "fd084717-662c-4455-ef4e-03dbbc33a2f7"
   },
   "outputs": [
    {
     "name": "stderr",
     "output_type": "stream",
     "text": [
      "100%|██████████| 11181/11181 [00:03<00:00, 3494.92it/s]\n"
     ]
    }
   ],
   "source": [
    "embeddings = []\n",
    "with tqdm(total=len(idx_list)) as pbar:\n",
    "  for idx in idx_list:\n",
    "    output_path = os.path.join(OUTPUT_DIR, f'CXR_{idx}.npz')\n",
    "    emb = np.load(output_path)\n",
    "    # print(emb.files)\n",
    "    # print(emb['array'])\n",
    "    embeddings.append(emb['array'])\n",
    "    pbar.update(1)"
   ]
  },
  {
   "cell_type": "code",
   "execution_count": 13,
   "metadata": {
    "colab": {
     "base_uri": "https://localhost:8080/",
     "height": 475
    },
    "executionInfo": {
     "elapsed": 11174,
     "status": "ok",
     "timestamp": 1720798376488,
     "user": {
      "displayName": "Kunyu Yu",
      "userId": "14770751944604064967"
     },
     "user_tz": -480
    },
    "id": "-55CZWGZONRK",
    "outputId": "90d7a82b-07bd-4c78-a505-e47c09d928d4"
   },
   "outputs": [
    {
     "data": {
      "text/html": [
       "<div>\n",
       "<style scoped>\n",
       "    .dataframe tbody tr th:only-of-type {\n",
       "        vertical-align: middle;\n",
       "    }\n",
       "\n",
       "    .dataframe tbody tr th {\n",
       "        vertical-align: top;\n",
       "    }\n",
       "\n",
       "    .dataframe thead th {\n",
       "        text-align: right;\n",
       "    }\n",
       "</style>\n",
       "<table border=\"1\" class=\"dataframe\">\n",
       "  <thead>\n",
       "    <tr style=\"text-align: right;\">\n",
       "      <th></th>\n",
       "      <th>0</th>\n",
       "      <th>1</th>\n",
       "      <th>2</th>\n",
       "      <th>3</th>\n",
       "      <th>4</th>\n",
       "      <th>5</th>\n",
       "      <th>6</th>\n",
       "      <th>7</th>\n",
       "      <th>8</th>\n",
       "      <th>9</th>\n",
       "      <th>...</th>\n",
       "      <th>1366</th>\n",
       "      <th>1367</th>\n",
       "      <th>1368</th>\n",
       "      <th>1369</th>\n",
       "      <th>1370</th>\n",
       "      <th>1371</th>\n",
       "      <th>1372</th>\n",
       "      <th>1373</th>\n",
       "      <th>1374</th>\n",
       "      <th>1375</th>\n",
       "    </tr>\n",
       "    <tr>\n",
       "      <th>Index</th>\n",
       "      <th></th>\n",
       "      <th></th>\n",
       "      <th></th>\n",
       "      <th></th>\n",
       "      <th></th>\n",
       "      <th></th>\n",
       "      <th></th>\n",
       "      <th></th>\n",
       "      <th></th>\n",
       "      <th></th>\n",
       "      <th></th>\n",
       "      <th></th>\n",
       "      <th></th>\n",
       "      <th></th>\n",
       "      <th></th>\n",
       "      <th></th>\n",
       "      <th></th>\n",
       "      <th></th>\n",
       "      <th></th>\n",
       "      <th></th>\n",
       "      <th></th>\n",
       "    </tr>\n",
       "  </thead>\n",
       "  <tbody>\n",
       "    <tr>\n",
       "      <th>3</th>\n",
       "      <td>-1.381176</td>\n",
       "      <td>-0.940575</td>\n",
       "      <td>0.715067</td>\n",
       "      <td>-0.797603</td>\n",
       "      <td>0.356198</td>\n",
       "      <td>0.246666</td>\n",
       "      <td>-0.003760</td>\n",
       "      <td>0.528408</td>\n",
       "      <td>0.644446</td>\n",
       "      <td>1.259951</td>\n",
       "      <td>...</td>\n",
       "      <td>-0.618315</td>\n",
       "      <td>-0.935153</td>\n",
       "      <td>0.016467</td>\n",
       "      <td>0.924472</td>\n",
       "      <td>1.342215</td>\n",
       "      <td>1.881090</td>\n",
       "      <td>1.097744</td>\n",
       "      <td>-1.578163</td>\n",
       "      <td>0.880282</td>\n",
       "      <td>-1.080822</td>\n",
       "    </tr>\n",
       "    <tr>\n",
       "      <th>11</th>\n",
       "      <td>0.581038</td>\n",
       "      <td>-1.797232</td>\n",
       "      <td>0.575292</td>\n",
       "      <td>-2.580911</td>\n",
       "      <td>-0.198946</td>\n",
       "      <td>-0.137570</td>\n",
       "      <td>0.249380</td>\n",
       "      <td>0.587596</td>\n",
       "      <td>0.143332</td>\n",
       "      <td>0.340715</td>\n",
       "      <td>...</td>\n",
       "      <td>0.084487</td>\n",
       "      <td>-1.056361</td>\n",
       "      <td>0.339028</td>\n",
       "      <td>0.841624</td>\n",
       "      <td>1.585286</td>\n",
       "      <td>1.118701</td>\n",
       "      <td>1.623493</td>\n",
       "      <td>-0.970832</td>\n",
       "      <td>0.595209</td>\n",
       "      <td>-0.655883</td>\n",
       "    </tr>\n",
       "    <tr>\n",
       "      <th>13</th>\n",
       "      <td>-0.614110</td>\n",
       "      <td>-1.026556</td>\n",
       "      <td>0.810352</td>\n",
       "      <td>-2.059892</td>\n",
       "      <td>0.188802</td>\n",
       "      <td>0.699066</td>\n",
       "      <td>0.191839</td>\n",
       "      <td>0.398325</td>\n",
       "      <td>0.440779</td>\n",
       "      <td>1.621906</td>\n",
       "      <td>...</td>\n",
       "      <td>0.376719</td>\n",
       "      <td>-0.724244</td>\n",
       "      <td>0.346482</td>\n",
       "      <td>0.279807</td>\n",
       "      <td>1.396719</td>\n",
       "      <td>1.366546</td>\n",
       "      <td>1.493984</td>\n",
       "      <td>-2.406215</td>\n",
       "      <td>0.620417</td>\n",
       "      <td>-1.347265</td>\n",
       "    </tr>\n",
       "    <tr>\n",
       "      <th>28</th>\n",
       "      <td>-0.736443</td>\n",
       "      <td>-1.590252</td>\n",
       "      <td>0.475662</td>\n",
       "      <td>-3.094897</td>\n",
       "      <td>-0.319674</td>\n",
       "      <td>0.403751</td>\n",
       "      <td>0.022844</td>\n",
       "      <td>0.378421</td>\n",
       "      <td>1.919591</td>\n",
       "      <td>1.027444</td>\n",
       "      <td>...</td>\n",
       "      <td>0.232888</td>\n",
       "      <td>-1.040388</td>\n",
       "      <td>-0.132198</td>\n",
       "      <td>-0.233667</td>\n",
       "      <td>1.888865</td>\n",
       "      <td>0.769814</td>\n",
       "      <td>1.028867</td>\n",
       "      <td>-1.937112</td>\n",
       "      <td>0.634653</td>\n",
       "      <td>-0.550897</td>\n",
       "    </tr>\n",
       "    <tr>\n",
       "      <th>32</th>\n",
       "      <td>0.480620</td>\n",
       "      <td>-0.940023</td>\n",
       "      <td>0.649912</td>\n",
       "      <td>-1.676881</td>\n",
       "      <td>0.778880</td>\n",
       "      <td>-0.413885</td>\n",
       "      <td>0.363687</td>\n",
       "      <td>1.024940</td>\n",
       "      <td>1.054450</td>\n",
       "      <td>0.434259</td>\n",
       "      <td>...</td>\n",
       "      <td>-0.281471</td>\n",
       "      <td>-1.436268</td>\n",
       "      <td>0.815421</td>\n",
       "      <td>-0.568383</td>\n",
       "      <td>1.810253</td>\n",
       "      <td>1.011805</td>\n",
       "      <td>1.896561</td>\n",
       "      <td>-1.716560</td>\n",
       "      <td>0.120864</td>\n",
       "      <td>-0.852970</td>\n",
       "    </tr>\n",
       "    <tr>\n",
       "      <th>...</th>\n",
       "      <td>...</td>\n",
       "      <td>...</td>\n",
       "      <td>...</td>\n",
       "      <td>...</td>\n",
       "      <td>...</td>\n",
       "      <td>...</td>\n",
       "      <td>...</td>\n",
       "      <td>...</td>\n",
       "      <td>...</td>\n",
       "      <td>...</td>\n",
       "      <td>...</td>\n",
       "      <td>...</td>\n",
       "      <td>...</td>\n",
       "      <td>...</td>\n",
       "      <td>...</td>\n",
       "      <td>...</td>\n",
       "      <td>...</td>\n",
       "      <td>...</td>\n",
       "      <td>...</td>\n",
       "      <td>...</td>\n",
       "      <td>...</td>\n",
       "    </tr>\n",
       "    <tr>\n",
       "      <th>73156</th>\n",
       "      <td>-0.962804</td>\n",
       "      <td>-0.943192</td>\n",
       "      <td>0.648740</td>\n",
       "      <td>-2.202918</td>\n",
       "      <td>0.427941</td>\n",
       "      <td>0.547557</td>\n",
       "      <td>0.352034</td>\n",
       "      <td>-0.198258</td>\n",
       "      <td>0.797327</td>\n",
       "      <td>0.485057</td>\n",
       "      <td>...</td>\n",
       "      <td>0.053254</td>\n",
       "      <td>-1.654803</td>\n",
       "      <td>-0.112861</td>\n",
       "      <td>0.768092</td>\n",
       "      <td>1.514888</td>\n",
       "      <td>0.731088</td>\n",
       "      <td>1.334879</td>\n",
       "      <td>-1.849943</td>\n",
       "      <td>1.660445</td>\n",
       "      <td>-0.264385</td>\n",
       "    </tr>\n",
       "    <tr>\n",
       "      <th>73158</th>\n",
       "      <td>-0.393963</td>\n",
       "      <td>-2.005205</td>\n",
       "      <td>1.043008</td>\n",
       "      <td>-1.708687</td>\n",
       "      <td>0.032316</td>\n",
       "      <td>0.020179</td>\n",
       "      <td>0.944152</td>\n",
       "      <td>-0.067904</td>\n",
       "      <td>0.194546</td>\n",
       "      <td>0.307785</td>\n",
       "      <td>...</td>\n",
       "      <td>0.330033</td>\n",
       "      <td>-0.159879</td>\n",
       "      <td>0.256290</td>\n",
       "      <td>0.216845</td>\n",
       "      <td>1.135049</td>\n",
       "      <td>0.159038</td>\n",
       "      <td>1.036105</td>\n",
       "      <td>-2.024945</td>\n",
       "      <td>0.863886</td>\n",
       "      <td>-0.367802</td>\n",
       "    </tr>\n",
       "    <tr>\n",
       "      <th>73167</th>\n",
       "      <td>0.273118</td>\n",
       "      <td>-1.392482</td>\n",
       "      <td>1.045443</td>\n",
       "      <td>-2.198258</td>\n",
       "      <td>-0.017214</td>\n",
       "      <td>-0.622114</td>\n",
       "      <td>0.391003</td>\n",
       "      <td>0.580721</td>\n",
       "      <td>1.298687</td>\n",
       "      <td>0.236781</td>\n",
       "      <td>...</td>\n",
       "      <td>-0.500133</td>\n",
       "      <td>-1.005181</td>\n",
       "      <td>-0.167412</td>\n",
       "      <td>0.304767</td>\n",
       "      <td>1.647456</td>\n",
       "      <td>0.437331</td>\n",
       "      <td>2.075221</td>\n",
       "      <td>-2.000816</td>\n",
       "      <td>0.798234</td>\n",
       "      <td>-0.215647</td>\n",
       "    </tr>\n",
       "    <tr>\n",
       "      <th>73168</th>\n",
       "      <td>1.088542</td>\n",
       "      <td>-1.974966</td>\n",
       "      <td>0.448694</td>\n",
       "      <td>-2.974573</td>\n",
       "      <td>0.709508</td>\n",
       "      <td>0.482062</td>\n",
       "      <td>0.144350</td>\n",
       "      <td>1.297873</td>\n",
       "      <td>-0.983312</td>\n",
       "      <td>1.449268</td>\n",
       "      <td>...</td>\n",
       "      <td>0.236932</td>\n",
       "      <td>-2.503725</td>\n",
       "      <td>1.837659</td>\n",
       "      <td>-0.132703</td>\n",
       "      <td>1.242561</td>\n",
       "      <td>2.597867</td>\n",
       "      <td>0.892291</td>\n",
       "      <td>-0.887340</td>\n",
       "      <td>-0.384910</td>\n",
       "      <td>-1.353121</td>\n",
       "    </tr>\n",
       "    <tr>\n",
       "      <th>73171</th>\n",
       "      <td>-1.037159</td>\n",
       "      <td>-1.157727</td>\n",
       "      <td>1.135354</td>\n",
       "      <td>-3.371361</td>\n",
       "      <td>0.410163</td>\n",
       "      <td>0.566050</td>\n",
       "      <td>1.007602</td>\n",
       "      <td>0.468867</td>\n",
       "      <td>1.159164</td>\n",
       "      <td>-0.267440</td>\n",
       "      <td>...</td>\n",
       "      <td>1.716772</td>\n",
       "      <td>-1.278696</td>\n",
       "      <td>0.597308</td>\n",
       "      <td>1.191246</td>\n",
       "      <td>2.245535</td>\n",
       "      <td>0.399956</td>\n",
       "      <td>2.011855</td>\n",
       "      <td>-1.695561</td>\n",
       "      <td>1.765420</td>\n",
       "      <td>-2.047773</td>\n",
       "    </tr>\n",
       "  </tbody>\n",
       "</table>\n",
       "<p>11181 rows × 1376 columns</p>\n",
       "</div>"
      ],
      "text/plain": [
       "           0         1         2         3         4         5         6     \\\n",
       "Index                                                                         \n",
       "3     -1.381176 -0.940575  0.715067 -0.797603  0.356198  0.246666 -0.003760   \n",
       "11     0.581038 -1.797232  0.575292 -2.580911 -0.198946 -0.137570  0.249380   \n",
       "13    -0.614110 -1.026556  0.810352 -2.059892  0.188802  0.699066  0.191839   \n",
       "28    -0.736443 -1.590252  0.475662 -3.094897 -0.319674  0.403751  0.022844   \n",
       "32     0.480620 -0.940023  0.649912 -1.676881  0.778880 -0.413885  0.363687   \n",
       "...         ...       ...       ...       ...       ...       ...       ...   \n",
       "73156 -0.962804 -0.943192  0.648740 -2.202918  0.427941  0.547557  0.352034   \n",
       "73158 -0.393963 -2.005205  1.043008 -1.708687  0.032316  0.020179  0.944152   \n",
       "73167  0.273118 -1.392482  1.045443 -2.198258 -0.017214 -0.622114  0.391003   \n",
       "73168  1.088542 -1.974966  0.448694 -2.974573  0.709508  0.482062  0.144350   \n",
       "73171 -1.037159 -1.157727  1.135354 -3.371361  0.410163  0.566050  1.007602   \n",
       "\n",
       "           7         8         9     ...      1366      1367      1368  \\\n",
       "Index                                ...                                 \n",
       "3      0.528408  0.644446  1.259951  ... -0.618315 -0.935153  0.016467   \n",
       "11     0.587596  0.143332  0.340715  ...  0.084487 -1.056361  0.339028   \n",
       "13     0.398325  0.440779  1.621906  ...  0.376719 -0.724244  0.346482   \n",
       "28     0.378421  1.919591  1.027444  ...  0.232888 -1.040388 -0.132198   \n",
       "32     1.024940  1.054450  0.434259  ... -0.281471 -1.436268  0.815421   \n",
       "...         ...       ...       ...  ...       ...       ...       ...   \n",
       "73156 -0.198258  0.797327  0.485057  ...  0.053254 -1.654803 -0.112861   \n",
       "73158 -0.067904  0.194546  0.307785  ...  0.330033 -0.159879  0.256290   \n",
       "73167  0.580721  1.298687  0.236781  ... -0.500133 -1.005181 -0.167412   \n",
       "73168  1.297873 -0.983312  1.449268  ...  0.236932 -2.503725  1.837659   \n",
       "73171  0.468867  1.159164 -0.267440  ...  1.716772 -1.278696  0.597308   \n",
       "\n",
       "           1369      1370      1371      1372      1373      1374      1375  \n",
       "Index                                                                        \n",
       "3      0.924472  1.342215  1.881090  1.097744 -1.578163  0.880282 -1.080822  \n",
       "11     0.841624  1.585286  1.118701  1.623493 -0.970832  0.595209 -0.655883  \n",
       "13     0.279807  1.396719  1.366546  1.493984 -2.406215  0.620417 -1.347265  \n",
       "28    -0.233667  1.888865  0.769814  1.028867 -1.937112  0.634653 -0.550897  \n",
       "32    -0.568383  1.810253  1.011805  1.896561 -1.716560  0.120864 -0.852970  \n",
       "...         ...       ...       ...       ...       ...       ...       ...  \n",
       "73156  0.768092  1.514888  0.731088  1.334879 -1.849943  1.660445 -0.264385  \n",
       "73158  0.216845  1.135049  0.159038  1.036105 -2.024945  0.863886 -0.367802  \n",
       "73167  0.304767  1.647456  0.437331  2.075221 -2.000816  0.798234 -0.215647  \n",
       "73168 -0.132703  1.242561  2.597867  0.892291 -0.887340 -0.384910 -1.353121  \n",
       "73171  1.191246  2.245535  0.399956  2.011855 -1.695561  1.765420 -2.047773  \n",
       "\n",
       "[11181 rows x 1376 columns]"
      ]
     },
     "execution_count": 13,
     "metadata": {},
     "output_type": "execute_result"
    }
   ],
   "source": [
    "# Convert the list of arrays into a DataFrame\n",
    "cxr_foundation_embeddings= pd.DataFrame(embeddings)\n",
    "cxr_foundation_embeddings.index = idx_list\n",
    "cxr_foundation_embeddings.index.name = 'Index'\n",
    "cxr_foundation_embeddings"
   ]
  },
  {
   "cell_type": "code",
   "execution_count": 14,
   "metadata": {},
   "outputs": [],
   "source": [
    "# Convert DataFrame to NumPy arrays\n",
    "data = cxr_foundation_embeddings.to_numpy()\n",
    "columns = cxr_foundation_embeddings.columns.to_numpy()\n",
    "index = cxr_foundation_embeddings.index.to_numpy()\n",
    "\n",
    "# Save to NPZ file\n",
    "np.savez('embeddings/cxr_foundation_embeddings.npz', data=data, columns=columns, index=index)"
   ]
  }
 ],
 "metadata": {
  "colab": {
   "authorship_tag": "ABX9TyNFVfOujPP7SGWmFZzWzyT4",
   "provenance": []
  },
  "kernelspec": {
   "display_name": "Python 3",
   "name": "python3"
  },
  "language_info": {
   "codemirror_mode": {
    "name": "ipython",
    "version": 3
   },
   "file_extension": ".py",
   "mimetype": "text/x-python",
   "name": "python",
   "nbconvert_exporter": "python",
   "pygments_lexer": "ipython3",
   "version": "3.11.9"
  }
 },
 "nbformat": 4,
 "nbformat_minor": 0
}
